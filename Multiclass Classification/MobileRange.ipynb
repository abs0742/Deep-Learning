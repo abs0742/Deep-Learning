{
 "cells": [
  {
   "cell_type": "markdown",
   "metadata": {},
   "source": [
    "## Mobile Price Range Multiclass Classification"
   ]
  },
  {
   "cell_type": "code",
   "execution_count": 1,
   "metadata": {},
   "outputs": [],
   "source": [
    "from warnings import filterwarnings\n",
    "filterwarnings('ignore')"
   ]
  },
  {
   "cell_type": "code",
   "execution_count": 2,
   "metadata": {},
   "outputs": [
    {
     "data": {
      "text/html": [
       "<div>\n",
       "<style scoped>\n",
       "    .dataframe tbody tr th:only-of-type {\n",
       "        vertical-align: middle;\n",
       "    }\n",
       "\n",
       "    .dataframe tbody tr th {\n",
       "        vertical-align: top;\n",
       "    }\n",
       "\n",
       "    .dataframe thead th {\n",
       "        text-align: right;\n",
       "    }\n",
       "</style>\n",
       "<table border=\"1\" class=\"dataframe\">\n",
       "  <thead>\n",
       "    <tr style=\"text-align: right;\">\n",
       "      <th></th>\n",
       "      <th>battery_power</th>\n",
       "      <th>blue</th>\n",
       "      <th>clock_speed</th>\n",
       "      <th>dual_sim</th>\n",
       "      <th>fc</th>\n",
       "      <th>four_g</th>\n",
       "      <th>int_memory</th>\n",
       "      <th>m_dep</th>\n",
       "      <th>mobile_wt</th>\n",
       "      <th>n_cores</th>\n",
       "      <th>...</th>\n",
       "      <th>px_height</th>\n",
       "      <th>px_width</th>\n",
       "      <th>ram</th>\n",
       "      <th>sc_h</th>\n",
       "      <th>sc_w</th>\n",
       "      <th>talk_time</th>\n",
       "      <th>three_g</th>\n",
       "      <th>touch_screen</th>\n",
       "      <th>wifi</th>\n",
       "      <th>price_range</th>\n",
       "    </tr>\n",
       "  </thead>\n",
       "  <tbody>\n",
       "    <tr>\n",
       "      <th>0</th>\n",
       "      <td>842</td>\n",
       "      <td>0</td>\n",
       "      <td>2.2</td>\n",
       "      <td>0</td>\n",
       "      <td>1</td>\n",
       "      <td>0</td>\n",
       "      <td>7</td>\n",
       "      <td>0.6</td>\n",
       "      <td>188</td>\n",
       "      <td>2</td>\n",
       "      <td>...</td>\n",
       "      <td>20</td>\n",
       "      <td>756</td>\n",
       "      <td>2549</td>\n",
       "      <td>9</td>\n",
       "      <td>7</td>\n",
       "      <td>19</td>\n",
       "      <td>0</td>\n",
       "      <td>0</td>\n",
       "      <td>1</td>\n",
       "      <td>1</td>\n",
       "    </tr>\n",
       "    <tr>\n",
       "      <th>1</th>\n",
       "      <td>1021</td>\n",
       "      <td>1</td>\n",
       "      <td>0.5</td>\n",
       "      <td>1</td>\n",
       "      <td>0</td>\n",
       "      <td>1</td>\n",
       "      <td>53</td>\n",
       "      <td>0.7</td>\n",
       "      <td>136</td>\n",
       "      <td>3</td>\n",
       "      <td>...</td>\n",
       "      <td>905</td>\n",
       "      <td>1988</td>\n",
       "      <td>2631</td>\n",
       "      <td>17</td>\n",
       "      <td>3</td>\n",
       "      <td>7</td>\n",
       "      <td>1</td>\n",
       "      <td>1</td>\n",
       "      <td>0</td>\n",
       "      <td>2</td>\n",
       "    </tr>\n",
       "    <tr>\n",
       "      <th>2</th>\n",
       "      <td>563</td>\n",
       "      <td>1</td>\n",
       "      <td>0.5</td>\n",
       "      <td>1</td>\n",
       "      <td>2</td>\n",
       "      <td>1</td>\n",
       "      <td>41</td>\n",
       "      <td>0.9</td>\n",
       "      <td>145</td>\n",
       "      <td>5</td>\n",
       "      <td>...</td>\n",
       "      <td>1263</td>\n",
       "      <td>1716</td>\n",
       "      <td>2603</td>\n",
       "      <td>11</td>\n",
       "      <td>2</td>\n",
       "      <td>9</td>\n",
       "      <td>1</td>\n",
       "      <td>1</td>\n",
       "      <td>0</td>\n",
       "      <td>2</td>\n",
       "    </tr>\n",
       "    <tr>\n",
       "      <th>3</th>\n",
       "      <td>615</td>\n",
       "      <td>1</td>\n",
       "      <td>2.5</td>\n",
       "      <td>0</td>\n",
       "      <td>0</td>\n",
       "      <td>0</td>\n",
       "      <td>10</td>\n",
       "      <td>0.8</td>\n",
       "      <td>131</td>\n",
       "      <td>6</td>\n",
       "      <td>...</td>\n",
       "      <td>1216</td>\n",
       "      <td>1786</td>\n",
       "      <td>2769</td>\n",
       "      <td>16</td>\n",
       "      <td>8</td>\n",
       "      <td>11</td>\n",
       "      <td>1</td>\n",
       "      <td>0</td>\n",
       "      <td>0</td>\n",
       "      <td>2</td>\n",
       "    </tr>\n",
       "    <tr>\n",
       "      <th>4</th>\n",
       "      <td>1821</td>\n",
       "      <td>1</td>\n",
       "      <td>1.2</td>\n",
       "      <td>0</td>\n",
       "      <td>13</td>\n",
       "      <td>1</td>\n",
       "      <td>44</td>\n",
       "      <td>0.6</td>\n",
       "      <td>141</td>\n",
       "      <td>2</td>\n",
       "      <td>...</td>\n",
       "      <td>1208</td>\n",
       "      <td>1212</td>\n",
       "      <td>1411</td>\n",
       "      <td>8</td>\n",
       "      <td>2</td>\n",
       "      <td>15</td>\n",
       "      <td>1</td>\n",
       "      <td>1</td>\n",
       "      <td>0</td>\n",
       "      <td>1</td>\n",
       "    </tr>\n",
       "  </tbody>\n",
       "</table>\n",
       "<p>5 rows × 21 columns</p>\n",
       "</div>"
      ],
      "text/plain": [
       "   battery_power  blue  clock_speed  dual_sim  fc  four_g  int_memory  m_dep  \\\n",
       "0            842     0          2.2         0   1       0           7    0.6   \n",
       "1           1021     1          0.5         1   0       1          53    0.7   \n",
       "2            563     1          0.5         1   2       1          41    0.9   \n",
       "3            615     1          2.5         0   0       0          10    0.8   \n",
       "4           1821     1          1.2         0  13       1          44    0.6   \n",
       "\n",
       "   mobile_wt  n_cores  ...  px_height  px_width   ram  sc_h  sc_w  talk_time  \\\n",
       "0        188        2  ...         20       756  2549     9     7         19   \n",
       "1        136        3  ...        905      1988  2631    17     3          7   \n",
       "2        145        5  ...       1263      1716  2603    11     2          9   \n",
       "3        131        6  ...       1216      1786  2769    16     8         11   \n",
       "4        141        2  ...       1208      1212  1411     8     2         15   \n",
       "\n",
       "   three_g  touch_screen  wifi  price_range  \n",
       "0        0             0     1            1  \n",
       "1        1             1     0            2  \n",
       "2        1             1     0            2  \n",
       "3        1             0     0            2  \n",
       "4        1             1     0            1  \n",
       "\n",
       "[5 rows x 21 columns]"
      ]
     },
     "execution_count": 2,
     "metadata": {},
     "output_type": "execute_result"
    }
   ],
   "source": [
    "import pandas as pd\n",
    "df = pd.read_csv('train_mobile.csv')\n",
    "df.head()"
   ]
  },
  {
   "cell_type": "code",
   "execution_count": 3,
   "metadata": {},
   "outputs": [
    {
     "name": "stdout",
     "output_type": "stream",
     "text": [
      "<class 'pandas.core.frame.DataFrame'>\n",
      "RangeIndex: 2000 entries, 0 to 1999\n",
      "Data columns (total 21 columns):\n",
      " #   Column         Non-Null Count  Dtype  \n",
      "---  ------         --------------  -----  \n",
      " 0   battery_power  2000 non-null   int64  \n",
      " 1   blue           2000 non-null   int64  \n",
      " 2   clock_speed    2000 non-null   float64\n",
      " 3   dual_sim       2000 non-null   int64  \n",
      " 4   fc             2000 non-null   int64  \n",
      " 5   four_g         2000 non-null   int64  \n",
      " 6   int_memory     2000 non-null   int64  \n",
      " 7   m_dep          2000 non-null   float64\n",
      " 8   mobile_wt      2000 non-null   int64  \n",
      " 9   n_cores        2000 non-null   int64  \n",
      " 10  pc             2000 non-null   int64  \n",
      " 11  px_height      2000 non-null   int64  \n",
      " 12  px_width       2000 non-null   int64  \n",
      " 13  ram            2000 non-null   int64  \n",
      " 14  sc_h           2000 non-null   int64  \n",
      " 15  sc_w           2000 non-null   int64  \n",
      " 16  talk_time      2000 non-null   int64  \n",
      " 17  three_g        2000 non-null   int64  \n",
      " 18  touch_screen   2000 non-null   int64  \n",
      " 19  wifi           2000 non-null   int64  \n",
      " 20  price_range    2000 non-null   int64  \n",
      "dtypes: float64(2), int64(19)\n",
      "memory usage: 328.3 KB\n"
     ]
    }
   ],
   "source": [
    "df.info()"
   ]
  },
  {
   "cell_type": "code",
   "execution_count": 4,
   "metadata": {},
   "outputs": [
    {
     "data": {
      "text/plain": [
       "battery_power    0\n",
       "blue             0\n",
       "clock_speed      0\n",
       "dual_sim         0\n",
       "fc               0\n",
       "four_g           0\n",
       "int_memory       0\n",
       "m_dep            0\n",
       "mobile_wt        0\n",
       "n_cores          0\n",
       "pc               0\n",
       "px_height        0\n",
       "px_width         0\n",
       "ram              0\n",
       "sc_h             0\n",
       "sc_w             0\n",
       "talk_time        0\n",
       "three_g          0\n",
       "touch_screen     0\n",
       "wifi             0\n",
       "price_range      0\n",
       "dtype: int64"
      ]
     },
     "execution_count": 4,
     "metadata": {},
     "output_type": "execute_result"
    }
   ],
   "source": [
    "df.isna().sum()"
   ]
  },
  {
   "cell_type": "code",
   "execution_count": 5,
   "metadata": {},
   "outputs": [
    {
     "data": {
      "text/plain": [
       "0"
      ]
     },
     "execution_count": 5,
     "metadata": {},
     "output_type": "execute_result"
    }
   ],
   "source": [
    "df.duplicated().sum()"
   ]
  },
  {
   "cell_type": "markdown",
   "metadata": {},
   "source": [
    "## Seperate X and Y features"
   ]
  },
  {
   "cell_type": "code",
   "execution_count": 6,
   "metadata": {},
   "outputs": [],
   "source": [
    "X = df.drop(columns=['price_range'])\n",
    "Y = df[['price_range']]"
   ]
  },
  {
   "cell_type": "code",
   "execution_count": 7,
   "metadata": {},
   "outputs": [
    {
     "data": {
      "text/html": [
       "<div>\n",
       "<style scoped>\n",
       "    .dataframe tbody tr th:only-of-type {\n",
       "        vertical-align: middle;\n",
       "    }\n",
       "\n",
       "    .dataframe tbody tr th {\n",
       "        vertical-align: top;\n",
       "    }\n",
       "\n",
       "    .dataframe thead th {\n",
       "        text-align: right;\n",
       "    }\n",
       "</style>\n",
       "<table border=\"1\" class=\"dataframe\">\n",
       "  <thead>\n",
       "    <tr style=\"text-align: right;\">\n",
       "      <th></th>\n",
       "      <th>battery_power</th>\n",
       "      <th>blue</th>\n",
       "      <th>clock_speed</th>\n",
       "      <th>dual_sim</th>\n",
       "      <th>fc</th>\n",
       "      <th>four_g</th>\n",
       "      <th>int_memory</th>\n",
       "      <th>m_dep</th>\n",
       "      <th>mobile_wt</th>\n",
       "      <th>n_cores</th>\n",
       "      <th>pc</th>\n",
       "      <th>px_height</th>\n",
       "      <th>px_width</th>\n",
       "      <th>ram</th>\n",
       "      <th>sc_h</th>\n",
       "      <th>sc_w</th>\n",
       "      <th>talk_time</th>\n",
       "      <th>three_g</th>\n",
       "      <th>touch_screen</th>\n",
       "      <th>wifi</th>\n",
       "    </tr>\n",
       "  </thead>\n",
       "  <tbody>\n",
       "    <tr>\n",
       "      <th>0</th>\n",
       "      <td>842</td>\n",
       "      <td>0</td>\n",
       "      <td>2.2</td>\n",
       "      <td>0</td>\n",
       "      <td>1</td>\n",
       "      <td>0</td>\n",
       "      <td>7</td>\n",
       "      <td>0.6</td>\n",
       "      <td>188</td>\n",
       "      <td>2</td>\n",
       "      <td>2</td>\n",
       "      <td>20</td>\n",
       "      <td>756</td>\n",
       "      <td>2549</td>\n",
       "      <td>9</td>\n",
       "      <td>7</td>\n",
       "      <td>19</td>\n",
       "      <td>0</td>\n",
       "      <td>0</td>\n",
       "      <td>1</td>\n",
       "    </tr>\n",
       "    <tr>\n",
       "      <th>1</th>\n",
       "      <td>1021</td>\n",
       "      <td>1</td>\n",
       "      <td>0.5</td>\n",
       "      <td>1</td>\n",
       "      <td>0</td>\n",
       "      <td>1</td>\n",
       "      <td>53</td>\n",
       "      <td>0.7</td>\n",
       "      <td>136</td>\n",
       "      <td>3</td>\n",
       "      <td>6</td>\n",
       "      <td>905</td>\n",
       "      <td>1988</td>\n",
       "      <td>2631</td>\n",
       "      <td>17</td>\n",
       "      <td>3</td>\n",
       "      <td>7</td>\n",
       "      <td>1</td>\n",
       "      <td>1</td>\n",
       "      <td>0</td>\n",
       "    </tr>\n",
       "    <tr>\n",
       "      <th>2</th>\n",
       "      <td>563</td>\n",
       "      <td>1</td>\n",
       "      <td>0.5</td>\n",
       "      <td>1</td>\n",
       "      <td>2</td>\n",
       "      <td>1</td>\n",
       "      <td>41</td>\n",
       "      <td>0.9</td>\n",
       "      <td>145</td>\n",
       "      <td>5</td>\n",
       "      <td>6</td>\n",
       "      <td>1263</td>\n",
       "      <td>1716</td>\n",
       "      <td>2603</td>\n",
       "      <td>11</td>\n",
       "      <td>2</td>\n",
       "      <td>9</td>\n",
       "      <td>1</td>\n",
       "      <td>1</td>\n",
       "      <td>0</td>\n",
       "    </tr>\n",
       "    <tr>\n",
       "      <th>3</th>\n",
       "      <td>615</td>\n",
       "      <td>1</td>\n",
       "      <td>2.5</td>\n",
       "      <td>0</td>\n",
       "      <td>0</td>\n",
       "      <td>0</td>\n",
       "      <td>10</td>\n",
       "      <td>0.8</td>\n",
       "      <td>131</td>\n",
       "      <td>6</td>\n",
       "      <td>9</td>\n",
       "      <td>1216</td>\n",
       "      <td>1786</td>\n",
       "      <td>2769</td>\n",
       "      <td>16</td>\n",
       "      <td>8</td>\n",
       "      <td>11</td>\n",
       "      <td>1</td>\n",
       "      <td>0</td>\n",
       "      <td>0</td>\n",
       "    </tr>\n",
       "    <tr>\n",
       "      <th>4</th>\n",
       "      <td>1821</td>\n",
       "      <td>1</td>\n",
       "      <td>1.2</td>\n",
       "      <td>0</td>\n",
       "      <td>13</td>\n",
       "      <td>1</td>\n",
       "      <td>44</td>\n",
       "      <td>0.6</td>\n",
       "      <td>141</td>\n",
       "      <td>2</td>\n",
       "      <td>14</td>\n",
       "      <td>1208</td>\n",
       "      <td>1212</td>\n",
       "      <td>1411</td>\n",
       "      <td>8</td>\n",
       "      <td>2</td>\n",
       "      <td>15</td>\n",
       "      <td>1</td>\n",
       "      <td>1</td>\n",
       "      <td>0</td>\n",
       "    </tr>\n",
       "  </tbody>\n",
       "</table>\n",
       "</div>"
      ],
      "text/plain": [
       "   battery_power  blue  clock_speed  dual_sim  fc  four_g  int_memory  m_dep  \\\n",
       "0            842     0          2.2         0   1       0           7    0.6   \n",
       "1           1021     1          0.5         1   0       1          53    0.7   \n",
       "2            563     1          0.5         1   2       1          41    0.9   \n",
       "3            615     1          2.5         0   0       0          10    0.8   \n",
       "4           1821     1          1.2         0  13       1          44    0.6   \n",
       "\n",
       "   mobile_wt  n_cores  pc  px_height  px_width   ram  sc_h  sc_w  talk_time  \\\n",
       "0        188        2   2         20       756  2549     9     7         19   \n",
       "1        136        3   6        905      1988  2631    17     3          7   \n",
       "2        145        5   6       1263      1716  2603    11     2          9   \n",
       "3        131        6   9       1216      1786  2769    16     8         11   \n",
       "4        141        2  14       1208      1212  1411     8     2         15   \n",
       "\n",
       "   three_g  touch_screen  wifi  \n",
       "0        0             0     1  \n",
       "1        1             1     0  \n",
       "2        1             1     0  \n",
       "3        1             0     0  \n",
       "4        1             1     0  "
      ]
     },
     "execution_count": 7,
     "metadata": {},
     "output_type": "execute_result"
    }
   ],
   "source": [
    "X.head()"
   ]
  },
  {
   "cell_type": "code",
   "execution_count": 8,
   "metadata": {},
   "outputs": [
    {
     "data": {
      "text/html": [
       "<div>\n",
       "<style scoped>\n",
       "    .dataframe tbody tr th:only-of-type {\n",
       "        vertical-align: middle;\n",
       "    }\n",
       "\n",
       "    .dataframe tbody tr th {\n",
       "        vertical-align: top;\n",
       "    }\n",
       "\n",
       "    .dataframe thead th {\n",
       "        text-align: right;\n",
       "    }\n",
       "</style>\n",
       "<table border=\"1\" class=\"dataframe\">\n",
       "  <thead>\n",
       "    <tr style=\"text-align: right;\">\n",
       "      <th></th>\n",
       "      <th>price_range</th>\n",
       "    </tr>\n",
       "  </thead>\n",
       "  <tbody>\n",
       "    <tr>\n",
       "      <th>0</th>\n",
       "      <td>1</td>\n",
       "    </tr>\n",
       "    <tr>\n",
       "      <th>1</th>\n",
       "      <td>2</td>\n",
       "    </tr>\n",
       "    <tr>\n",
       "      <th>2</th>\n",
       "      <td>2</td>\n",
       "    </tr>\n",
       "    <tr>\n",
       "      <th>3</th>\n",
       "      <td>2</td>\n",
       "    </tr>\n",
       "    <tr>\n",
       "      <th>4</th>\n",
       "      <td>1</td>\n",
       "    </tr>\n",
       "  </tbody>\n",
       "</table>\n",
       "</div>"
      ],
      "text/plain": [
       "   price_range\n",
       "0            1\n",
       "1            2\n",
       "2            2\n",
       "3            2\n",
       "4            1"
      ]
     },
     "execution_count": 8,
     "metadata": {},
     "output_type": "execute_result"
    }
   ],
   "source": [
    "Y.head()"
   ]
  },
  {
   "cell_type": "markdown",
   "metadata": {},
   "source": [
    "## Create Preprocessing Pipeline for X"
   ]
  },
  {
   "cell_type": "code",
   "execution_count": 9,
   "metadata": {},
   "outputs": [],
   "source": [
    "from sklearn.pipeline import Pipeline\n",
    "from sklearn.preprocessing import StandardScaler\n",
    "from sklearn.impute import SimpleImputer"
   ]
  },
  {
   "cell_type": "code",
   "execution_count": 10,
   "metadata": {},
   "outputs": [],
   "source": [
    "num_pipe = Pipeline(steps=[('impute', SimpleImputer(strategy='median')),\n",
    "                           ('scaler', StandardScaler())]).set_output(transform='pandas')"
   ]
  },
  {
   "cell_type": "code",
   "execution_count": 11,
   "metadata": {},
   "outputs": [
    {
     "data": {
      "text/html": [
       "<div>\n",
       "<style scoped>\n",
       "    .dataframe tbody tr th:only-of-type {\n",
       "        vertical-align: middle;\n",
       "    }\n",
       "\n",
       "    .dataframe tbody tr th {\n",
       "        vertical-align: top;\n",
       "    }\n",
       "\n",
       "    .dataframe thead th {\n",
       "        text-align: right;\n",
       "    }\n",
       "</style>\n",
       "<table border=\"1\" class=\"dataframe\">\n",
       "  <thead>\n",
       "    <tr style=\"text-align: right;\">\n",
       "      <th></th>\n",
       "      <th>battery_power</th>\n",
       "      <th>blue</th>\n",
       "      <th>clock_speed</th>\n",
       "      <th>dual_sim</th>\n",
       "      <th>fc</th>\n",
       "      <th>four_g</th>\n",
       "      <th>int_memory</th>\n",
       "      <th>m_dep</th>\n",
       "      <th>mobile_wt</th>\n",
       "      <th>n_cores</th>\n",
       "      <th>pc</th>\n",
       "      <th>px_height</th>\n",
       "      <th>px_width</th>\n",
       "      <th>ram</th>\n",
       "      <th>sc_h</th>\n",
       "      <th>sc_w</th>\n",
       "      <th>talk_time</th>\n",
       "      <th>three_g</th>\n",
       "      <th>touch_screen</th>\n",
       "      <th>wifi</th>\n",
       "    </tr>\n",
       "  </thead>\n",
       "  <tbody>\n",
       "    <tr>\n",
       "      <th>0</th>\n",
       "      <td>-0.902597</td>\n",
       "      <td>-0.990050</td>\n",
       "      <td>0.830779</td>\n",
       "      <td>-1.019184</td>\n",
       "      <td>-0.762495</td>\n",
       "      <td>-1.043966</td>\n",
       "      <td>-1.380644</td>\n",
       "      <td>0.340740</td>\n",
       "      <td>1.349249</td>\n",
       "      <td>-1.101971</td>\n",
       "      <td>-1.305750</td>\n",
       "      <td>-1.408949</td>\n",
       "      <td>-1.146784</td>\n",
       "      <td>0.391703</td>\n",
       "      <td>-0.784983</td>\n",
       "      <td>0.283103</td>\n",
       "      <td>1.462493</td>\n",
       "      <td>-1.786861</td>\n",
       "      <td>-1.006018</td>\n",
       "      <td>0.986097</td>\n",
       "    </tr>\n",
       "    <tr>\n",
       "      <th>1</th>\n",
       "      <td>-0.495139</td>\n",
       "      <td>1.010051</td>\n",
       "      <td>-1.253064</td>\n",
       "      <td>0.981177</td>\n",
       "      <td>-0.992890</td>\n",
       "      <td>0.957886</td>\n",
       "      <td>1.155024</td>\n",
       "      <td>0.687548</td>\n",
       "      <td>-0.120059</td>\n",
       "      <td>-0.664768</td>\n",
       "      <td>-0.645989</td>\n",
       "      <td>0.585778</td>\n",
       "      <td>1.704465</td>\n",
       "      <td>0.467317</td>\n",
       "      <td>1.114266</td>\n",
       "      <td>-0.635317</td>\n",
       "      <td>-0.734267</td>\n",
       "      <td>0.559641</td>\n",
       "      <td>0.994018</td>\n",
       "      <td>-1.014099</td>\n",
       "    </tr>\n",
       "    <tr>\n",
       "      <th>2</th>\n",
       "      <td>-1.537686</td>\n",
       "      <td>1.010051</td>\n",
       "      <td>-1.253064</td>\n",
       "      <td>0.981177</td>\n",
       "      <td>-0.532099</td>\n",
       "      <td>0.957886</td>\n",
       "      <td>0.493546</td>\n",
       "      <td>1.381165</td>\n",
       "      <td>0.134244</td>\n",
       "      <td>0.209639</td>\n",
       "      <td>-0.645989</td>\n",
       "      <td>1.392684</td>\n",
       "      <td>1.074968</td>\n",
       "      <td>0.441498</td>\n",
       "      <td>-0.310171</td>\n",
       "      <td>-0.864922</td>\n",
       "      <td>-0.368140</td>\n",
       "      <td>0.559641</td>\n",
       "      <td>0.994018</td>\n",
       "      <td>-1.014099</td>\n",
       "    </tr>\n",
       "    <tr>\n",
       "      <th>3</th>\n",
       "      <td>-1.419319</td>\n",
       "      <td>1.010051</td>\n",
       "      <td>1.198517</td>\n",
       "      <td>-1.019184</td>\n",
       "      <td>-0.992890</td>\n",
       "      <td>-1.043966</td>\n",
       "      <td>-1.215274</td>\n",
       "      <td>1.034357</td>\n",
       "      <td>-0.261339</td>\n",
       "      <td>0.646842</td>\n",
       "      <td>-0.151168</td>\n",
       "      <td>1.286750</td>\n",
       "      <td>1.236971</td>\n",
       "      <td>0.594569</td>\n",
       "      <td>0.876859</td>\n",
       "      <td>0.512708</td>\n",
       "      <td>-0.002014</td>\n",
       "      <td>0.559641</td>\n",
       "      <td>-1.006018</td>\n",
       "      <td>-1.014099</td>\n",
       "    </tr>\n",
       "    <tr>\n",
       "      <th>4</th>\n",
       "      <td>1.325906</td>\n",
       "      <td>1.010051</td>\n",
       "      <td>-0.395011</td>\n",
       "      <td>-1.019184</td>\n",
       "      <td>2.002254</td>\n",
       "      <td>0.957886</td>\n",
       "      <td>0.658915</td>\n",
       "      <td>0.340740</td>\n",
       "      <td>0.021220</td>\n",
       "      <td>-1.101971</td>\n",
       "      <td>0.673534</td>\n",
       "      <td>1.268718</td>\n",
       "      <td>-0.091452</td>\n",
       "      <td>-0.657666</td>\n",
       "      <td>-1.022389</td>\n",
       "      <td>-0.864922</td>\n",
       "      <td>0.730240</td>\n",
       "      <td>0.559641</td>\n",
       "      <td>0.994018</td>\n",
       "      <td>-1.014099</td>\n",
       "    </tr>\n",
       "  </tbody>\n",
       "</table>\n",
       "</div>"
      ],
      "text/plain": [
       "   battery_power      blue  clock_speed  dual_sim        fc    four_g  \\\n",
       "0      -0.902597 -0.990050     0.830779 -1.019184 -0.762495 -1.043966   \n",
       "1      -0.495139  1.010051    -1.253064  0.981177 -0.992890  0.957886   \n",
       "2      -1.537686  1.010051    -1.253064  0.981177 -0.532099  0.957886   \n",
       "3      -1.419319  1.010051     1.198517 -1.019184 -0.992890 -1.043966   \n",
       "4       1.325906  1.010051    -0.395011 -1.019184  2.002254  0.957886   \n",
       "\n",
       "   int_memory     m_dep  mobile_wt   n_cores        pc  px_height  px_width  \\\n",
       "0   -1.380644  0.340740   1.349249 -1.101971 -1.305750  -1.408949 -1.146784   \n",
       "1    1.155024  0.687548  -0.120059 -0.664768 -0.645989   0.585778  1.704465   \n",
       "2    0.493546  1.381165   0.134244  0.209639 -0.645989   1.392684  1.074968   \n",
       "3   -1.215274  1.034357  -0.261339  0.646842 -0.151168   1.286750  1.236971   \n",
       "4    0.658915  0.340740   0.021220 -1.101971  0.673534   1.268718 -0.091452   \n",
       "\n",
       "        ram      sc_h      sc_w  talk_time   three_g  touch_screen      wifi  \n",
       "0  0.391703 -0.784983  0.283103   1.462493 -1.786861     -1.006018  0.986097  \n",
       "1  0.467317  1.114266 -0.635317  -0.734267  0.559641      0.994018 -1.014099  \n",
       "2  0.441498 -0.310171 -0.864922  -0.368140  0.559641      0.994018 -1.014099  \n",
       "3  0.594569  0.876859  0.512708  -0.002014  0.559641     -1.006018 -1.014099  \n",
       "4 -0.657666 -1.022389 -0.864922   0.730240  0.559641      0.994018 -1.014099  "
      ]
     },
     "execution_count": 11,
     "metadata": {},
     "output_type": "execute_result"
    }
   ],
   "source": [
    "X_pre = num_pipe.fit_transform(X)\n",
    "X_pre.head()"
   ]
  },
  {
   "cell_type": "markdown",
   "metadata": {},
   "source": [
    "## Apply train test split"
   ]
  },
  {
   "cell_type": "code",
   "execution_count": 12,
   "metadata": {},
   "outputs": [],
   "source": [
    "from sklearn.model_selection import train_test_split\n",
    "xtrain, xtest, ytrain, ytest = train_test_split(X_pre, Y, test_size=0.2, random_state=42)"
   ]
  },
  {
   "cell_type": "code",
   "execution_count": 13,
   "metadata": {},
   "outputs": [
    {
     "data": {
      "text/html": [
       "<div>\n",
       "<style scoped>\n",
       "    .dataframe tbody tr th:only-of-type {\n",
       "        vertical-align: middle;\n",
       "    }\n",
       "\n",
       "    .dataframe tbody tr th {\n",
       "        vertical-align: top;\n",
       "    }\n",
       "\n",
       "    .dataframe thead th {\n",
       "        text-align: right;\n",
       "    }\n",
       "</style>\n",
       "<table border=\"1\" class=\"dataframe\">\n",
       "  <thead>\n",
       "    <tr style=\"text-align: right;\">\n",
       "      <th></th>\n",
       "      <th>battery_power</th>\n",
       "      <th>blue</th>\n",
       "      <th>clock_speed</th>\n",
       "      <th>dual_sim</th>\n",
       "      <th>fc</th>\n",
       "      <th>four_g</th>\n",
       "      <th>int_memory</th>\n",
       "      <th>m_dep</th>\n",
       "      <th>mobile_wt</th>\n",
       "      <th>n_cores</th>\n",
       "      <th>pc</th>\n",
       "      <th>px_height</th>\n",
       "      <th>px_width</th>\n",
       "      <th>ram</th>\n",
       "      <th>sc_h</th>\n",
       "      <th>sc_w</th>\n",
       "      <th>talk_time</th>\n",
       "      <th>three_g</th>\n",
       "      <th>touch_screen</th>\n",
       "      <th>wifi</th>\n",
       "    </tr>\n",
       "  </thead>\n",
       "  <tbody>\n",
       "    <tr>\n",
       "      <th>968</th>\n",
       "      <td>1.558089</td>\n",
       "      <td>-0.990050</td>\n",
       "      <td>-1.253064</td>\n",
       "      <td>0.981177</td>\n",
       "      <td>0.619880</td>\n",
       "      <td>-1.043966</td>\n",
       "      <td>0.769162</td>\n",
       "      <td>-0.006069</td>\n",
       "      <td>1.434017</td>\n",
       "      <td>-1.539175</td>\n",
       "      <td>0.013773</td>\n",
       "      <td>0.274736</td>\n",
       "      <td>1.174484</td>\n",
       "      <td>-0.585741</td>\n",
       "      <td>-0.547577</td>\n",
       "      <td>0.742313</td>\n",
       "      <td>-1.466521</td>\n",
       "      <td>0.559641</td>\n",
       "      <td>0.994018</td>\n",
       "      <td>0.986097</td>\n",
       "    </tr>\n",
       "    <tr>\n",
       "      <th>240</th>\n",
       "      <td>-1.378345</td>\n",
       "      <td>1.010051</td>\n",
       "      <td>0.830779</td>\n",
       "      <td>-1.019184</td>\n",
       "      <td>-0.992890</td>\n",
       "      <td>0.957886</td>\n",
       "      <td>0.934531</td>\n",
       "      <td>-1.393304</td>\n",
       "      <td>-0.035292</td>\n",
       "      <td>1.521249</td>\n",
       "      <td>-1.470690</td>\n",
       "      <td>-0.261699</td>\n",
       "      <td>-0.561260</td>\n",
       "      <td>1.323964</td>\n",
       "      <td>-0.310171</td>\n",
       "      <td>-1.094526</td>\n",
       "      <td>0.913303</td>\n",
       "      <td>0.559641</td>\n",
       "      <td>0.994018</td>\n",
       "      <td>0.986097</td>\n",
       "    </tr>\n",
       "    <tr>\n",
       "      <th>819</th>\n",
       "      <td>-0.005733</td>\n",
       "      <td>-0.990050</td>\n",
       "      <td>-0.762748</td>\n",
       "      <td>0.981177</td>\n",
       "      <td>-0.532099</td>\n",
       "      <td>0.957886</td>\n",
       "      <td>1.375517</td>\n",
       "      <td>-1.393304</td>\n",
       "      <td>1.349249</td>\n",
       "      <td>-1.539175</td>\n",
       "      <td>0.673534</td>\n",
       "      <td>-0.288746</td>\n",
       "      <td>-1.024125</td>\n",
       "      <td>-0.662277</td>\n",
       "      <td>0.402047</td>\n",
       "      <td>1.431127</td>\n",
       "      <td>1.645557</td>\n",
       "      <td>0.559641</td>\n",
       "      <td>-1.006018</td>\n",
       "      <td>0.986097</td>\n",
       "    </tr>\n",
       "    <tr>\n",
       "      <th>692</th>\n",
       "      <td>-1.041452</td>\n",
       "      <td>-0.990050</td>\n",
       "      <td>-0.517590</td>\n",
       "      <td>-1.019184</td>\n",
       "      <td>-0.532099</td>\n",
       "      <td>-1.043966</td>\n",
       "      <td>0.328176</td>\n",
       "      <td>-0.352878</td>\n",
       "      <td>1.631808</td>\n",
       "      <td>0.209639</td>\n",
       "      <td>-0.481048</td>\n",
       "      <td>-0.768833</td>\n",
       "      <td>0.977767</td>\n",
       "      <td>1.276014</td>\n",
       "      <td>0.164641</td>\n",
       "      <td>0.512708</td>\n",
       "      <td>-1.100394</td>\n",
       "      <td>-1.786861</td>\n",
       "      <td>-1.006018</td>\n",
       "      <td>0.986097</td>\n",
       "    </tr>\n",
       "    <tr>\n",
       "      <th>420</th>\n",
       "      <td>0.495054</td>\n",
       "      <td>1.010051</td>\n",
       "      <td>-1.253064</td>\n",
       "      <td>0.981177</td>\n",
       "      <td>0.619880</td>\n",
       "      <td>-1.043966</td>\n",
       "      <td>-1.380644</td>\n",
       "      <td>-0.352878</td>\n",
       "      <td>-0.995993</td>\n",
       "      <td>0.209639</td>\n",
       "      <td>0.343653</td>\n",
       "      <td>0.400956</td>\n",
       "      <td>-0.341399</td>\n",
       "      <td>-0.495373</td>\n",
       "      <td>-1.497202</td>\n",
       "      <td>-0.176107</td>\n",
       "      <td>1.645557</td>\n",
       "      <td>0.559641</td>\n",
       "      <td>-1.006018</td>\n",
       "      <td>0.986097</td>\n",
       "    </tr>\n",
       "  </tbody>\n",
       "</table>\n",
       "</div>"
      ],
      "text/plain": [
       "     battery_power      blue  clock_speed  dual_sim        fc    four_g  \\\n",
       "968       1.558089 -0.990050    -1.253064  0.981177  0.619880 -1.043966   \n",
       "240      -1.378345  1.010051     0.830779 -1.019184 -0.992890  0.957886   \n",
       "819      -0.005733 -0.990050    -0.762748  0.981177 -0.532099  0.957886   \n",
       "692      -1.041452 -0.990050    -0.517590 -1.019184 -0.532099 -1.043966   \n",
       "420       0.495054  1.010051    -1.253064  0.981177  0.619880 -1.043966   \n",
       "\n",
       "     int_memory     m_dep  mobile_wt   n_cores        pc  px_height  px_width  \\\n",
       "968    0.769162 -0.006069   1.434017 -1.539175  0.013773   0.274736  1.174484   \n",
       "240    0.934531 -1.393304  -0.035292  1.521249 -1.470690  -0.261699 -0.561260   \n",
       "819    1.375517 -1.393304   1.349249 -1.539175  0.673534  -0.288746 -1.024125   \n",
       "692    0.328176 -0.352878   1.631808  0.209639 -0.481048  -0.768833  0.977767   \n",
       "420   -1.380644 -0.352878  -0.995993  0.209639  0.343653   0.400956 -0.341399   \n",
       "\n",
       "          ram      sc_h      sc_w  talk_time   three_g  touch_screen      wifi  \n",
       "968 -0.585741 -0.547577  0.742313  -1.466521  0.559641      0.994018  0.986097  \n",
       "240  1.323964 -0.310171 -1.094526   0.913303  0.559641      0.994018  0.986097  \n",
       "819 -0.662277  0.402047  1.431127   1.645557  0.559641     -1.006018  0.986097  \n",
       "692  1.276014  0.164641  0.512708  -1.100394 -1.786861     -1.006018  0.986097  \n",
       "420 -0.495373 -1.497202 -0.176107   1.645557  0.559641     -1.006018  0.986097  "
      ]
     },
     "execution_count": 13,
     "metadata": {},
     "output_type": "execute_result"
    }
   ],
   "source": [
    "xtrain.head()"
   ]
  },
  {
   "cell_type": "code",
   "execution_count": 14,
   "metadata": {},
   "outputs": [
    {
     "data": {
      "text/html": [
       "<div>\n",
       "<style scoped>\n",
       "    .dataframe tbody tr th:only-of-type {\n",
       "        vertical-align: middle;\n",
       "    }\n",
       "\n",
       "    .dataframe tbody tr th {\n",
       "        vertical-align: top;\n",
       "    }\n",
       "\n",
       "    .dataframe thead th {\n",
       "        text-align: right;\n",
       "    }\n",
       "</style>\n",
       "<table border=\"1\" class=\"dataframe\">\n",
       "  <thead>\n",
       "    <tr style=\"text-align: right;\">\n",
       "      <th></th>\n",
       "      <th>price_range</th>\n",
       "    </tr>\n",
       "  </thead>\n",
       "  <tbody>\n",
       "    <tr>\n",
       "      <th>968</th>\n",
       "      <td>1</td>\n",
       "    </tr>\n",
       "    <tr>\n",
       "      <th>240</th>\n",
       "      <td>2</td>\n",
       "    </tr>\n",
       "    <tr>\n",
       "      <th>819</th>\n",
       "      <td>0</td>\n",
       "    </tr>\n",
       "    <tr>\n",
       "      <th>692</th>\n",
       "      <td>3</td>\n",
       "    </tr>\n",
       "    <tr>\n",
       "      <th>420</th>\n",
       "      <td>1</td>\n",
       "    </tr>\n",
       "  </tbody>\n",
       "</table>\n",
       "</div>"
      ],
      "text/plain": [
       "     price_range\n",
       "968            1\n",
       "240            2\n",
       "819            0\n",
       "692            3\n",
       "420            1"
      ]
     },
     "execution_count": 14,
     "metadata": {},
     "output_type": "execute_result"
    }
   ],
   "source": [
    "ytrain.head()"
   ]
  },
  {
   "cell_type": "code",
   "execution_count": 15,
   "metadata": {},
   "outputs": [
    {
     "data": {
      "text/html": [
       "<div>\n",
       "<style scoped>\n",
       "    .dataframe tbody tr th:only-of-type {\n",
       "        vertical-align: middle;\n",
       "    }\n",
       "\n",
       "    .dataframe tbody tr th {\n",
       "        vertical-align: top;\n",
       "    }\n",
       "\n",
       "    .dataframe thead th {\n",
       "        text-align: right;\n",
       "    }\n",
       "</style>\n",
       "<table border=\"1\" class=\"dataframe\">\n",
       "  <thead>\n",
       "    <tr style=\"text-align: right;\">\n",
       "      <th></th>\n",
       "      <th>battery_power</th>\n",
       "      <th>blue</th>\n",
       "      <th>clock_speed</th>\n",
       "      <th>dual_sim</th>\n",
       "      <th>fc</th>\n",
       "      <th>four_g</th>\n",
       "      <th>int_memory</th>\n",
       "      <th>m_dep</th>\n",
       "      <th>mobile_wt</th>\n",
       "      <th>n_cores</th>\n",
       "      <th>pc</th>\n",
       "      <th>px_height</th>\n",
       "      <th>px_width</th>\n",
       "      <th>ram</th>\n",
       "      <th>sc_h</th>\n",
       "      <th>sc_w</th>\n",
       "      <th>talk_time</th>\n",
       "      <th>three_g</th>\n",
       "      <th>touch_screen</th>\n",
       "      <th>wifi</th>\n",
       "    </tr>\n",
       "  </thead>\n",
       "  <tbody>\n",
       "    <tr>\n",
       "      <th>1860</th>\n",
       "      <td>0.927552</td>\n",
       "      <td>-0.990050</td>\n",
       "      <td>1.198517</td>\n",
       "      <td>-1.019184</td>\n",
       "      <td>-0.301703</td>\n",
       "      <td>0.957886</td>\n",
       "      <td>-0.388426</td>\n",
       "      <td>0.340740</td>\n",
       "      <td>1.688320</td>\n",
       "      <td>-1.101971</td>\n",
       "      <td>-0.810929</td>\n",
       "      <td>-0.978448</td>\n",
       "      <td>0.825021</td>\n",
       "      <td>-1.326201</td>\n",
       "      <td>-1.022389</td>\n",
       "      <td>0.053498</td>\n",
       "      <td>-0.002014</td>\n",
       "      <td>0.559641</td>\n",
       "      <td>0.994018</td>\n",
       "      <td>-1.014099</td>\n",
       "    </tr>\n",
       "    <tr>\n",
       "      <th>353</th>\n",
       "      <td>-0.128653</td>\n",
       "      <td>-0.990050</td>\n",
       "      <td>-1.253064</td>\n",
       "      <td>-1.019184</td>\n",
       "      <td>0.619880</td>\n",
       "      <td>0.957886</td>\n",
       "      <td>-1.325520</td>\n",
       "      <td>-0.006069</td>\n",
       "      <td>-0.063548</td>\n",
       "      <td>1.521249</td>\n",
       "      <td>1.003414</td>\n",
       "      <td>-0.834197</td>\n",
       "      <td>-0.614489</td>\n",
       "      <td>0.404613</td>\n",
       "      <td>1.589078</td>\n",
       "      <td>2.579151</td>\n",
       "      <td>1.462493</td>\n",
       "      <td>0.559641</td>\n",
       "      <td>-1.006018</td>\n",
       "      <td>-1.014099</td>\n",
       "    </tr>\n",
       "    <tr>\n",
       "      <th>1333</th>\n",
       "      <td>1.669628</td>\n",
       "      <td>-0.990050</td>\n",
       "      <td>1.688833</td>\n",
       "      <td>-1.019184</td>\n",
       "      <td>1.080671</td>\n",
       "      <td>-1.043966</td>\n",
       "      <td>-0.994781</td>\n",
       "      <td>-0.352878</td>\n",
       "      <td>1.575296</td>\n",
       "      <td>1.084046</td>\n",
       "      <td>1.333295</td>\n",
       "      <td>-0.793626</td>\n",
       "      <td>-0.693176</td>\n",
       "      <td>-0.745267</td>\n",
       "      <td>-1.022389</td>\n",
       "      <td>-1.094526</td>\n",
       "      <td>-0.551204</td>\n",
       "      <td>0.559641</td>\n",
       "      <td>0.994018</td>\n",
       "      <td>-1.014099</td>\n",
       "    </tr>\n",
       "    <tr>\n",
       "      <th>905</th>\n",
       "      <td>-0.567980</td>\n",
       "      <td>1.010051</td>\n",
       "      <td>0.585621</td>\n",
       "      <td>-1.019184</td>\n",
       "      <td>-0.071307</td>\n",
       "      <td>-1.043966</td>\n",
       "      <td>-0.829411</td>\n",
       "      <td>-1.046495</td>\n",
       "      <td>0.727618</td>\n",
       "      <td>-0.664768</td>\n",
       "      <td>1.498235</td>\n",
       "      <td>-0.877022</td>\n",
       "      <td>0.329755</td>\n",
       "      <td>1.630107</td>\n",
       "      <td>1.351672</td>\n",
       "      <td>0.283103</td>\n",
       "      <td>1.462493</td>\n",
       "      <td>0.559641</td>\n",
       "      <td>0.994018</td>\n",
       "      <td>-1.014099</td>\n",
       "    </tr>\n",
       "    <tr>\n",
       "      <th>1289</th>\n",
       "      <td>-1.419319</td>\n",
       "      <td>1.010051</td>\n",
       "      <td>-1.253064</td>\n",
       "      <td>0.981177</td>\n",
       "      <td>0.619880</td>\n",
       "      <td>-1.043966</td>\n",
       "      <td>1.430640</td>\n",
       "      <td>-0.006069</td>\n",
       "      <td>-0.289595</td>\n",
       "      <td>0.209639</td>\n",
       "      <td>-0.316108</td>\n",
       "      <td>0.847234</td>\n",
       "      <td>1.635035</td>\n",
       "      <td>-0.201218</td>\n",
       "      <td>0.402047</td>\n",
       "      <td>-0.176107</td>\n",
       "      <td>-1.100394</td>\n",
       "      <td>0.559641</td>\n",
       "      <td>-1.006018</td>\n",
       "      <td>-1.014099</td>\n",
       "    </tr>\n",
       "  </tbody>\n",
       "</table>\n",
       "</div>"
      ],
      "text/plain": [
       "      battery_power      blue  clock_speed  dual_sim        fc    four_g  \\\n",
       "1860       0.927552 -0.990050     1.198517 -1.019184 -0.301703  0.957886   \n",
       "353       -0.128653 -0.990050    -1.253064 -1.019184  0.619880  0.957886   \n",
       "1333       1.669628 -0.990050     1.688833 -1.019184  1.080671 -1.043966   \n",
       "905       -0.567980  1.010051     0.585621 -1.019184 -0.071307 -1.043966   \n",
       "1289      -1.419319  1.010051    -1.253064  0.981177  0.619880 -1.043966   \n",
       "\n",
       "      int_memory     m_dep  mobile_wt   n_cores        pc  px_height  \\\n",
       "1860   -0.388426  0.340740   1.688320 -1.101971 -0.810929  -0.978448   \n",
       "353    -1.325520 -0.006069  -0.063548  1.521249  1.003414  -0.834197   \n",
       "1333   -0.994781 -0.352878   1.575296  1.084046  1.333295  -0.793626   \n",
       "905    -0.829411 -1.046495   0.727618 -0.664768  1.498235  -0.877022   \n",
       "1289    1.430640 -0.006069  -0.289595  0.209639 -0.316108   0.847234   \n",
       "\n",
       "      px_width       ram      sc_h      sc_w  talk_time   three_g  \\\n",
       "1860  0.825021 -1.326201 -1.022389  0.053498  -0.002014  0.559641   \n",
       "353  -0.614489  0.404613  1.589078  2.579151   1.462493  0.559641   \n",
       "1333 -0.693176 -0.745267 -1.022389 -1.094526  -0.551204  0.559641   \n",
       "905   0.329755  1.630107  1.351672  0.283103   1.462493  0.559641   \n",
       "1289  1.635035 -0.201218  0.402047 -0.176107  -1.100394  0.559641   \n",
       "\n",
       "      touch_screen      wifi  \n",
       "1860      0.994018 -1.014099  \n",
       "353      -1.006018 -1.014099  \n",
       "1333      0.994018 -1.014099  \n",
       "905       0.994018 -1.014099  \n",
       "1289     -1.006018 -1.014099  "
      ]
     },
     "execution_count": 15,
     "metadata": {},
     "output_type": "execute_result"
    }
   ],
   "source": [
    "xtest.head()"
   ]
  },
  {
   "cell_type": "code",
   "execution_count": 16,
   "metadata": {},
   "outputs": [
    {
     "data": {
      "text/html": [
       "<div>\n",
       "<style scoped>\n",
       "    .dataframe tbody tr th:only-of-type {\n",
       "        vertical-align: middle;\n",
       "    }\n",
       "\n",
       "    .dataframe tbody tr th {\n",
       "        vertical-align: top;\n",
       "    }\n",
       "\n",
       "    .dataframe thead th {\n",
       "        text-align: right;\n",
       "    }\n",
       "</style>\n",
       "<table border=\"1\" class=\"dataframe\">\n",
       "  <thead>\n",
       "    <tr style=\"text-align: right;\">\n",
       "      <th></th>\n",
       "      <th>price_range</th>\n",
       "    </tr>\n",
       "  </thead>\n",
       "  <tbody>\n",
       "    <tr>\n",
       "      <th>1860</th>\n",
       "      <td>0</td>\n",
       "    </tr>\n",
       "    <tr>\n",
       "      <th>353</th>\n",
       "      <td>2</td>\n",
       "    </tr>\n",
       "    <tr>\n",
       "      <th>1333</th>\n",
       "      <td>1</td>\n",
       "    </tr>\n",
       "    <tr>\n",
       "      <th>905</th>\n",
       "      <td>3</td>\n",
       "    </tr>\n",
       "    <tr>\n",
       "      <th>1289</th>\n",
       "      <td>1</td>\n",
       "    </tr>\n",
       "  </tbody>\n",
       "</table>\n",
       "</div>"
      ],
      "text/plain": [
       "      price_range\n",
       "1860            0\n",
       "353             2\n",
       "1333            1\n",
       "905             3\n",
       "1289            1"
      ]
     },
     "execution_count": 16,
     "metadata": {},
     "output_type": "execute_result"
    }
   ],
   "source": [
    "ytest.head()"
   ]
  },
  {
   "cell_type": "code",
   "execution_count": 17,
   "metadata": {},
   "outputs": [
    {
     "data": {
      "text/plain": [
       "(1600, 20)"
      ]
     },
     "execution_count": 17,
     "metadata": {},
     "output_type": "execute_result"
    }
   ],
   "source": [
    "xtrain.shape"
   ]
  },
  {
   "cell_type": "code",
   "execution_count": 18,
   "metadata": {},
   "outputs": [
    {
     "data": {
      "text/plain": [
       "20"
      ]
     },
     "execution_count": 18,
     "metadata": {},
     "output_type": "execute_result"
    }
   ],
   "source": [
    "xtrain.shape[1]"
   ]
  },
  {
   "cell_type": "markdown",
   "metadata": {},
   "source": [
    "## For multiclass classification apply one hot encoder on target feature(y)"
   ]
  },
  {
   "cell_type": "code",
   "execution_count": 19,
   "metadata": {},
   "outputs": [
    {
     "name": "stdout",
     "output_type": "stream",
     "text": [
      "WARNING:tensorflow:From d:\\Deep Learning\\repository\\venv\\Lib\\site-packages\\keras\\src\\losses.py:2976: The name tf.losses.sparse_softmax_cross_entropy is deprecated. Please use tf.compat.v1.losses.sparse_softmax_cross_entropy instead.\n",
      "\n"
     ]
    }
   ],
   "source": [
    "from keras.utils import to_categorical"
   ]
  },
  {
   "cell_type": "code",
   "execution_count": 20,
   "metadata": {},
   "outputs": [
    {
     "data": {
      "text/plain": [
       "array([[0., 1., 0., 0.],\n",
       "       [0., 0., 1., 0.],\n",
       "       [1., 0., 0., 0.],\n",
       "       [0., 0., 0., 1.],\n",
       "       [0., 1., 0., 0.]], dtype=float32)"
      ]
     },
     "execution_count": 20,
     "metadata": {},
     "output_type": "execute_result"
    }
   ],
   "source": [
    "ytrain_cat = to_categorical(ytrain)\n",
    "ytrain_cat[0:5]"
   ]
  },
  {
   "cell_type": "code",
   "execution_count": 21,
   "metadata": {},
   "outputs": [
    {
     "data": {
      "text/plain": [
       "array([[1., 0., 0., 0.],\n",
       "       [0., 0., 1., 0.],\n",
       "       [0., 1., 0., 0.],\n",
       "       [0., 0., 0., 1.],\n",
       "       [0., 1., 0., 0.]], dtype=float32)"
      ]
     },
     "execution_count": 21,
     "metadata": {},
     "output_type": "execute_result"
    }
   ],
   "source": [
    "ytest_cat = to_categorical(ytest)\n",
    "ytest_cat[0:5]"
   ]
  },
  {
   "cell_type": "markdown",
   "metadata": {},
   "source": [
    "## Checking the unique values"
   ]
  },
  {
   "cell_type": "code",
   "execution_count": 22,
   "metadata": {},
   "outputs": [
    {
     "data": {
      "text/plain": [
       "array([1, 2, 3, 0], dtype=int64)"
      ]
     },
     "execution_count": 22,
     "metadata": {},
     "output_type": "execute_result"
    }
   ],
   "source": [
    "df['price_range'].unique()"
   ]
  },
  {
   "cell_type": "markdown",
   "metadata": {},
   "source": [
    "## Build a neural network"
   ]
  },
  {
   "attachments": {
    "image.png": {
     "image/png": "[encoded data removed]"
    }
   },
   "cell_type": "markdown",
   "metadata": {},
   "source": [
    "![image.png](attachment:image.png)"
   ]
  },
  {
   "cell_type": "code",
   "execution_count": 23,
   "metadata": {},
   "outputs": [],
   "source": [
    "from keras.models import Sequential\n",
    "from keras.layers import Dense, Dropout\n",
    "from keras.callbacks import EarlyStopping"
   ]
  },
  {
   "cell_type": "code",
   "execution_count": 24,
   "metadata": {},
   "outputs": [
    {
     "name": "stdout",
     "output_type": "stream",
     "text": [
      "WARNING:tensorflow:From d:\\Deep Learning\\repository\\venv\\Lib\\site-packages\\keras\\src\\backend.py:873: The name tf.get_default_graph is deprecated. Please use tf.compat.v1.get_default_graph instead.\n",
      "\n"
     ]
    }
   ],
   "source": [
    "mobile = Sequential()\n",
    "# Create Dense layer 1\n",
    "mobile.add(Dense(units=64, activation='relu', input_shape=(xtrain.shape[1],)))\n",
    "# Add dropout layer 1\n",
    "mobile.add(Dropout(rate=0.3))\n",
    "# Create Dense layer 2\n",
    "mobile.add(Dense(units=32, activation='relu'))\n",
    "# Add droput layer 2\n",
    "mobile.add(Dropout(rate=0.2))\n",
    "# Output layer should have 4 neurons because there are 4 classes in this data\n",
    "mobile.add(Dense(units=4, activation='softmax'))"
   ]
  },
  {
   "cell_type": "code",
   "execution_count": 25,
   "metadata": {},
   "outputs": [
    {
     "name": "stdout",
     "output_type": "stream",
     "text": [
      "Model: \"sequential\"\n",
      "_________________________________________________________________\n",
      " Layer (type)                Output Shape              Param #   \n",
      "=================================================================\n",
      " dense (Dense)               (None, 64)                1344      \n",
      "                                                                 \n",
      " dropout (Dropout)           (None, 64)                0         \n",
      "                                                                 \n",
      " dense_1 (Dense)             (None, 32)                2080      \n",
      "                                                                 \n",
      " dropout_1 (Dropout)         (None, 32)                0         \n",
      "                                                                 \n",
      " dense_2 (Dense)             (None, 4)                 132       \n",
      "                                                                 \n",
      "=================================================================\n",
      "Total params: 3556 (13.89 KB)\n",
      "Trainable params: 3556 (13.89 KB)\n",
      "Non-trainable params: 0 (0.00 Byte)\n",
      "_________________________________________________________________\n"
     ]
    }
   ],
   "source": [
    "mobile.summary()"
   ]
  },
  {
   "cell_type": "markdown",
   "metadata": {},
   "source": [
    "## Compile the model"
   ]
  },
  {
   "cell_type": "code",
   "execution_count": 26,
   "metadata": {},
   "outputs": [
    {
     "name": "stdout",
     "output_type": "stream",
     "text": [
      "WARNING:tensorflow:From d:\\Deep Learning\\repository\\venv\\Lib\\site-packages\\keras\\src\\optimizers\\__init__.py:309: The name tf.train.Optimizer is deprecated. Please use tf.compat.v1.train.Optimizer instead.\n",
      "\n"
     ]
    }
   ],
   "source": [
    "mobile.compile(optimizer='adam', loss='categorical_crossentropy', metrics='accuracy')"
   ]
  },
  {
   "attachments": {
    "image.png": {
     "image/png": "[encoded data removed]"
    }
   },
   "cell_type": "markdown",
   "metadata": {},
   "source": [
    "## Add early stopping\n",
    "![image.png](attachment:image.png)"
   ]
  },
  {
   "cell_type": "code",
   "execution_count": 27,
   "metadata": {},
   "outputs": [],
   "source": [
    "es = EarlyStopping(monitor='val_loss', patience=10)"
   ]
  },
  {
   "cell_type": "markdown",
   "metadata": {},
   "source": [
    "## Training the model"
   ]
  },
  {
   "cell_type": "code",
   "execution_count": 28,
   "metadata": {},
   "outputs": [
    {
     "name": "stdout",
     "output_type": "stream",
     "text": [
      "Epoch 1/200\n",
      "WARNING:tensorflow:From d:\\Deep Learning\\repository\\venv\\Lib\\site-packages\\keras\\src\\utils\\tf_utils.py:492: The name tf.ragged.RaggedTensorValue is deprecated. Please use tf.compat.v1.ragged.RaggedTensorValue instead.\n",
      "\n",
      "WARNING:tensorflow:From d:\\Deep Learning\\repository\\venv\\Lib\\site-packages\\keras\\src\\engine\\base_layer_utils.py:384: The name tf.executing_eagerly_outside_functions is deprecated. Please use tf.compat.v1.executing_eagerly_outside_functions instead.\n",
      "\n",
      "40/40 [==============================] - 2s 21ms/step - loss: 1.4685 - accuracy: 0.2570 - val_loss: 1.3651 - val_accuracy: 0.3375\n",
      "Epoch 2/200\n",
      "40/40 [==============================] - 0s 3ms/step - loss: 1.3236 - accuracy: 0.3680 - val_loss: 1.2733 - val_accuracy: 0.4437\n",
      "Epoch 3/200\n",
      "40/40 [==============================] - 0s 3ms/step - loss: 1.2083 - accuracy: 0.4516 - val_loss: 1.1493 - val_accuracy: 0.4906\n",
      "Epoch 4/200\n",
      "40/40 [==============================] - 0s 3ms/step - loss: 1.0732 - accuracy: 0.5312 - val_loss: 0.9945 - val_accuracy: 0.5875\n",
      "Epoch 5/200\n",
      "40/40 [==============================] - 0s 3ms/step - loss: 0.9429 - accuracy: 0.5797 - val_loss: 0.8502 - val_accuracy: 0.6500\n",
      "Epoch 6/200\n",
      "40/40 [==============================] - 0s 3ms/step - loss: 0.8381 - accuracy: 0.6297 - val_loss: 0.7286 - val_accuracy: 0.7250\n",
      "Epoch 7/200\n",
      "40/40 [==============================] - 0s 2ms/step - loss: 0.7287 - accuracy: 0.6891 - val_loss: 0.6381 - val_accuracy: 0.7656\n",
      "Epoch 8/200\n",
      "40/40 [==============================] - 0s 2ms/step - loss: 0.6818 - accuracy: 0.7008 - val_loss: 0.5703 - val_accuracy: 0.7906\n",
      "Epoch 9/200\n",
      "40/40 [==============================] - 0s 3ms/step - loss: 0.5929 - accuracy: 0.7289 - val_loss: 0.5089 - val_accuracy: 0.8406\n",
      "Epoch 10/200\n",
      "40/40 [==============================] - 0s 4ms/step - loss: 0.5683 - accuracy: 0.7602 - val_loss: 0.4636 - val_accuracy: 0.8469\n",
      "Epoch 11/200\n",
      "40/40 [==============================] - 0s 3ms/step - loss: 0.5408 - accuracy: 0.7688 - val_loss: 0.4310 - val_accuracy: 0.8562\n",
      "Epoch 12/200\n",
      "40/40 [==============================] - 0s 3ms/step - loss: 0.4933 - accuracy: 0.7992 - val_loss: 0.3965 - val_accuracy: 0.8875\n",
      "Epoch 13/200\n",
      "40/40 [==============================] - 0s 3ms/step - loss: 0.4785 - accuracy: 0.7906 - val_loss: 0.3810 - val_accuracy: 0.8594\n",
      "Epoch 14/200\n",
      "40/40 [==============================] - 0s 3ms/step - loss: 0.4412 - accuracy: 0.8141 - val_loss: 0.3472 - val_accuracy: 0.8938\n",
      "Epoch 15/200\n",
      "40/40 [==============================] - 0s 3ms/step - loss: 0.4112 - accuracy: 0.8297 - val_loss: 0.3334 - val_accuracy: 0.8875\n",
      "Epoch 16/200\n",
      "40/40 [==============================] - 0s 3ms/step - loss: 0.3987 - accuracy: 0.8367 - val_loss: 0.3117 - val_accuracy: 0.9062\n",
      "Epoch 17/200\n",
      "40/40 [==============================] - 0s 3ms/step - loss: 0.3723 - accuracy: 0.8523 - val_loss: 0.2924 - val_accuracy: 0.9031\n",
      "Epoch 18/200\n",
      "40/40 [==============================] - 0s 3ms/step - loss: 0.3666 - accuracy: 0.8641 - val_loss: 0.2807 - val_accuracy: 0.9000\n",
      "Epoch 19/200\n",
      "40/40 [==============================] - 0s 3ms/step - loss: 0.3804 - accuracy: 0.8211 - val_loss: 0.2775 - val_accuracy: 0.9000\n",
      "Epoch 20/200\n",
      "40/40 [==============================] - 0s 3ms/step - loss: 0.3421 - accuracy: 0.8586 - val_loss: 0.2692 - val_accuracy: 0.9062\n",
      "Epoch 21/200\n",
      "40/40 [==============================] - 0s 3ms/step - loss: 0.3444 - accuracy: 0.8656 - val_loss: 0.2576 - val_accuracy: 0.9062\n",
      "Epoch 22/200\n",
      "40/40 [==============================] - 0s 3ms/step - loss: 0.3202 - accuracy: 0.8750 - val_loss: 0.2517 - val_accuracy: 0.8969\n",
      "Epoch 23/200\n",
      "40/40 [==============================] - 0s 3ms/step - loss: 0.3132 - accuracy: 0.8758 - val_loss: 0.2546 - val_accuracy: 0.9031\n",
      "Epoch 24/200\n",
      "40/40 [==============================] - 0s 3ms/step - loss: 0.2982 - accuracy: 0.8844 - val_loss: 0.2421 - val_accuracy: 0.9094\n",
      "Epoch 25/200\n",
      "40/40 [==============================] - 0s 3ms/step - loss: 0.3039 - accuracy: 0.8750 - val_loss: 0.2351 - val_accuracy: 0.9062\n",
      "Epoch 26/200\n",
      "40/40 [==============================] - 0s 3ms/step - loss: 0.2809 - accuracy: 0.8930 - val_loss: 0.2255 - val_accuracy: 0.9031\n",
      "Epoch 27/200\n",
      "40/40 [==============================] - 0s 3ms/step - loss: 0.2924 - accuracy: 0.8719 - val_loss: 0.2203 - val_accuracy: 0.8906\n",
      "Epoch 28/200\n",
      "40/40 [==============================] - 0s 3ms/step - loss: 0.2802 - accuracy: 0.8875 - val_loss: 0.2185 - val_accuracy: 0.9000\n",
      "Epoch 29/200\n",
      "40/40 [==============================] - 0s 3ms/step - loss: 0.2767 - accuracy: 0.8922 - val_loss: 0.2159 - val_accuracy: 0.9062\n",
      "Epoch 30/200\n",
      "40/40 [==============================] - 0s 3ms/step - loss: 0.2562 - accuracy: 0.9008 - val_loss: 0.2117 - val_accuracy: 0.9062\n",
      "Epoch 31/200\n",
      "40/40 [==============================] - 0s 3ms/step - loss: 0.2549 - accuracy: 0.9008 - val_loss: 0.2099 - val_accuracy: 0.9000\n",
      "Epoch 32/200\n",
      "40/40 [==============================] - 0s 3ms/step - loss: 0.2377 - accuracy: 0.9016 - val_loss: 0.2053 - val_accuracy: 0.9125\n",
      "Epoch 33/200\n",
      "40/40 [==============================] - 0s 3ms/step - loss: 0.2421 - accuracy: 0.9047 - val_loss: 0.1918 - val_accuracy: 0.9312\n",
      "Epoch 34/200\n",
      "40/40 [==============================] - 0s 3ms/step - loss: 0.2371 - accuracy: 0.9109 - val_loss: 0.1981 - val_accuracy: 0.9219\n",
      "Epoch 35/200\n",
      "40/40 [==============================] - 0s 3ms/step - loss: 0.2230 - accuracy: 0.9102 - val_loss: 0.1984 - val_accuracy: 0.9219\n",
      "Epoch 36/200\n",
      "40/40 [==============================] - 0s 3ms/step - loss: 0.2389 - accuracy: 0.9086 - val_loss: 0.1950 - val_accuracy: 0.9281\n",
      "Epoch 37/200\n",
      "40/40 [==============================] - 0s 3ms/step - loss: 0.2213 - accuracy: 0.9148 - val_loss: 0.1888 - val_accuracy: 0.9312\n",
      "Epoch 38/200\n",
      "40/40 [==============================] - 0s 3ms/step - loss: 0.2128 - accuracy: 0.9180 - val_loss: 0.1810 - val_accuracy: 0.9312\n",
      "Epoch 39/200\n",
      "40/40 [==============================] - 0s 3ms/step - loss: 0.2039 - accuracy: 0.9289 - val_loss: 0.1744 - val_accuracy: 0.9438\n",
      "Epoch 40/200\n",
      "40/40 [==============================] - 0s 3ms/step - loss: 0.2052 - accuracy: 0.9172 - val_loss: 0.1793 - val_accuracy: 0.9281\n",
      "Epoch 41/200\n",
      "40/40 [==============================] - 0s 3ms/step - loss: 0.1951 - accuracy: 0.9156 - val_loss: 0.1742 - val_accuracy: 0.9187\n",
      "Epoch 42/200\n",
      "40/40 [==============================] - 0s 3ms/step - loss: 0.1818 - accuracy: 0.9336 - val_loss: 0.1729 - val_accuracy: 0.9312\n",
      "Epoch 43/200\n",
      "40/40 [==============================] - 0s 3ms/step - loss: 0.2054 - accuracy: 0.9195 - val_loss: 0.1659 - val_accuracy: 0.9281\n",
      "Epoch 44/200\n",
      "40/40 [==============================] - 0s 3ms/step - loss: 0.2135 - accuracy: 0.9195 - val_loss: 0.1729 - val_accuracy: 0.9375\n",
      "Epoch 45/200\n",
      "40/40 [==============================] - 0s 3ms/step - loss: 0.1760 - accuracy: 0.9312 - val_loss: 0.1693 - val_accuracy: 0.9344\n",
      "Epoch 46/200\n",
      "40/40 [==============================] - 0s 3ms/step - loss: 0.1919 - accuracy: 0.9227 - val_loss: 0.1677 - val_accuracy: 0.9312\n",
      "Epoch 47/200\n",
      "40/40 [==============================] - 0s 3ms/step - loss: 0.2109 - accuracy: 0.9078 - val_loss: 0.1619 - val_accuracy: 0.9281\n",
      "Epoch 48/200\n",
      "40/40 [==============================] - 0s 3ms/step - loss: 0.1797 - accuracy: 0.9336 - val_loss: 0.1642 - val_accuracy: 0.9312\n",
      "Epoch 49/200\n",
      "40/40 [==============================] - 0s 3ms/step - loss: 0.1609 - accuracy: 0.9406 - val_loss: 0.1597 - val_accuracy: 0.9344\n",
      "Epoch 50/200\n",
      "40/40 [==============================] - 0s 3ms/step - loss: 0.1593 - accuracy: 0.9422 - val_loss: 0.1620 - val_accuracy: 0.9375\n",
      "Epoch 51/200\n",
      "40/40 [==============================] - 0s 4ms/step - loss: 0.1672 - accuracy: 0.9375 - val_loss: 0.1607 - val_accuracy: 0.9344\n",
      "Epoch 52/200\n",
      "40/40 [==============================] - 0s 3ms/step - loss: 0.1455 - accuracy: 0.9492 - val_loss: 0.1568 - val_accuracy: 0.9312\n",
      "Epoch 53/200\n",
      "40/40 [==============================] - 0s 3ms/step - loss: 0.1636 - accuracy: 0.9328 - val_loss: 0.1560 - val_accuracy: 0.9375\n",
      "Epoch 54/200\n",
      "40/40 [==============================] - 0s 3ms/step - loss: 0.1439 - accuracy: 0.9422 - val_loss: 0.1525 - val_accuracy: 0.9406\n",
      "Epoch 55/200\n",
      "40/40 [==============================] - 0s 3ms/step - loss: 0.1457 - accuracy: 0.9523 - val_loss: 0.1521 - val_accuracy: 0.9344\n",
      "Epoch 56/200\n",
      "40/40 [==============================] - 0s 4ms/step - loss: 0.1402 - accuracy: 0.9516 - val_loss: 0.1507 - val_accuracy: 0.9312\n",
      "Epoch 57/200\n",
      "40/40 [==============================] - 0s 3ms/step - loss: 0.1631 - accuracy: 0.9336 - val_loss: 0.1538 - val_accuracy: 0.9375\n",
      "Epoch 58/200\n",
      "40/40 [==============================] - 0s 3ms/step - loss: 0.1588 - accuracy: 0.9406 - val_loss: 0.1552 - val_accuracy: 0.9312\n",
      "Epoch 59/200\n",
      "40/40 [==============================] - 0s 3ms/step - loss: 0.1578 - accuracy: 0.9383 - val_loss: 0.1594 - val_accuracy: 0.9250\n",
      "Epoch 60/200\n",
      "40/40 [==============================] - 0s 3ms/step - loss: 0.1404 - accuracy: 0.9469 - val_loss: 0.1554 - val_accuracy: 0.9281\n",
      "Epoch 61/200\n",
      "40/40 [==============================] - 0s 3ms/step - loss: 0.1291 - accuracy: 0.9531 - val_loss: 0.1571 - val_accuracy: 0.9250\n",
      "Epoch 62/200\n",
      "40/40 [==============================] - 0s 3ms/step - loss: 0.1269 - accuracy: 0.9508 - val_loss: 0.1526 - val_accuracy: 0.9344\n",
      "Epoch 63/200\n",
      "40/40 [==============================] - 0s 3ms/step - loss: 0.1389 - accuracy: 0.9430 - val_loss: 0.1537 - val_accuracy: 0.9281\n",
      "Epoch 64/200\n",
      "40/40 [==============================] - 0s 3ms/step - loss: 0.1303 - accuracy: 0.9547 - val_loss: 0.1531 - val_accuracy: 0.9375\n",
      "Epoch 65/200\n",
      "40/40 [==============================] - 0s 3ms/step - loss: 0.1427 - accuracy: 0.9531 - val_loss: 0.1563 - val_accuracy: 0.9375\n",
      "Epoch 66/200\n",
      "40/40 [==============================] - 0s 3ms/step - loss: 0.1233 - accuracy: 0.9563 - val_loss: 0.1600 - val_accuracy: 0.9344\n"
     ]
    }
   ],
   "source": [
    "hist = mobile.fit(xtrain, ytrain_cat, validation_split=0.2, epochs=200, callbacks=[es])"
   ]
  },
  {
   "cell_type": "markdown",
   "metadata": {},
   "source": [
    "## plot the learning curve"
   ]
  },
  {
   "cell_type": "code",
   "execution_count": 29,
   "metadata": {},
   "outputs": [
    {
     "data": {
      "image/png": "[encoded data removed]",
      "text/plain": [
       "<Figure size 1000x600 with 1 Axes>"
      ]
     },
     "metadata": {},
     "output_type": "display_data"
    }
   ],
   "source": [
    "import matplotlib.pyplot as plt\n",
    "plt.figure(figsize=(10,6))\n",
    "plt.plot(hist.history['loss'], label = 'Training loss')\n",
    "plt.plot(hist.history['val_loss'], label = 'Validation Loss')\n",
    "plt.xlabel('epochs')\n",
    "plt.ylabel('Categorical Cross Entropy')\n",
    "plt.title('Learning Curve')\n",
    "plt.legend()\n",
    "plt.show()"
   ]
  },
  {
   "cell_type": "markdown",
   "metadata": {},
   "source": [
    "## Evaluate the model"
   ]
  },
  {
   "cell_type": "code",
   "execution_count": 30,
   "metadata": {},
   "outputs": [
    {
     "name": "stdout",
     "output_type": "stream",
     "text": [
      "50/50 [==============================] - 0s 2ms/step - loss: 0.0612 - accuracy: 0.9856\n"
     ]
    },
    {
     "data": {
      "text/plain": [
       "[0.06123462691903114, 0.9856250286102295]"
      ]
     },
     "execution_count": 30,
     "metadata": {},
     "output_type": "execute_result"
    }
   ],
   "source": [
    "mobile.evaluate(xtrain, ytrain_cat)"
   ]
  },
  {
   "cell_type": "code",
   "execution_count": 31,
   "metadata": {},
   "outputs": [
    {
     "name": "stdout",
     "output_type": "stream",
     "text": [
      "13/13 [==============================] - 0s 3ms/step - loss: 0.1650 - accuracy: 0.9300\n"
     ]
    },
    {
     "data": {
      "text/plain": [
       "[0.1650395542383194, 0.9300000071525574]"
      ]
     },
     "execution_count": 31,
     "metadata": {},
     "output_type": "execute_result"
    }
   ],
   "source": [
    "mobile.evaluate(xtest, ytest_cat)"
   ]
  },
  {
   "cell_type": "markdown",
   "metadata": {},
   "source": [
    "## Get the probability for train and test"
   ]
  },
  {
   "cell_type": "code",
   "execution_count": 32,
   "metadata": {},
   "outputs": [
    {
     "name": "stdout",
     "output_type": "stream",
     "text": [
      "50/50 [==============================] - 0s 2ms/step\n",
      "13/13 [==============================] - 0s 2ms/step\n"
     ]
    }
   ],
   "source": [
    "yprob_tr = mobile.predict(xtrain)\n",
    "yprob_ts = mobile.predict(xtest)"
   ]
  },
  {
   "cell_type": "code",
   "execution_count": 33,
   "metadata": {},
   "outputs": [
    {
     "data": {
      "text/plain": [
       "array([[1.24516548e-03, 9.35972095e-01, 6.27826005e-02, 6.99034857e-08],\n",
       "       [2.33478427e-15, 2.13149121e-07, 9.48302627e-01, 5.16972356e-02],\n",
       "       [8.87726665e-01, 1.12273276e-01, 3.80896259e-10, 3.16690183e-26],\n",
       "       [3.00532742e-16, 2.08867394e-08, 1.62874073e-01, 8.37125957e-01],\n",
       "       [4.05088626e-03, 9.94784653e-01, 1.16445322e-03, 2.46242575e-11]],\n",
       "      dtype=float32)"
      ]
     },
     "execution_count": 33,
     "metadata": {},
     "output_type": "execute_result"
    }
   ],
   "source": [
    "yprob_tr[0:5]"
   ]
  },
  {
   "cell_type": "code",
   "execution_count": 34,
   "metadata": {},
   "outputs": [
    {
     "data": {
      "text/plain": [
       "array([[9.9213552e-01, 7.8644492e-03, 1.6821544e-12, 2.5113376e-30],\n",
       "       [4.5591659e-09, 1.3542929e-03, 9.9863821e-01, 7.5187272e-06],\n",
       "       [3.5591112e-03, 9.9620277e-01, 2.3809985e-04, 9.1548274e-16],\n",
       "       [3.9286228e-21, 2.9415966e-12, 4.3297173e-03, 9.9567032e-01],\n",
       "       [1.3483356e-03, 9.5136029e-01, 4.7291372e-02, 3.1584106e-09]],\n",
       "      dtype=float32)"
      ]
     },
     "execution_count": 34,
     "metadata": {},
     "output_type": "execute_result"
    }
   ],
   "source": [
    "yprob_ts[0:5]"
   ]
  },
  {
   "cell_type": "markdown",
   "metadata": {},
   "source": [
    "## Get prediction from the probability using numpy"
   ]
  },
  {
   "cell_type": "code",
   "execution_count": 35,
   "metadata": {},
   "outputs": [],
   "source": [
    "import numpy as np\n",
    "ypred_tr = np.argmax(yprob_tr, axis=1)\n",
    "ypred_ts = np.argmax(yprob_ts, axis=1)"
   ]
  },
  {
   "cell_type": "code",
   "execution_count": 36,
   "metadata": {},
   "outputs": [
    {
     "data": {
      "text/plain": [
       "array([1, 2, 0, 3, 1], dtype=int64)"
      ]
     },
     "execution_count": 36,
     "metadata": {},
     "output_type": "execute_result"
    }
   ],
   "source": [
    "ypred_tr[0:5]"
   ]
  },
  {
   "cell_type": "code",
   "execution_count": 37,
   "metadata": {},
   "outputs": [
    {
     "data": {
      "text/html": [
       "<div>\n",
       "<style scoped>\n",
       "    .dataframe tbody tr th:only-of-type {\n",
       "        vertical-align: middle;\n",
       "    }\n",
       "\n",
       "    .dataframe tbody tr th {\n",
       "        vertical-align: top;\n",
       "    }\n",
       "\n",
       "    .dataframe thead th {\n",
       "        text-align: right;\n",
       "    }\n",
       "</style>\n",
       "<table border=\"1\" class=\"dataframe\">\n",
       "  <thead>\n",
       "    <tr style=\"text-align: right;\">\n",
       "      <th></th>\n",
       "      <th>price_range</th>\n",
       "    </tr>\n",
       "  </thead>\n",
       "  <tbody>\n",
       "    <tr>\n",
       "      <th>968</th>\n",
       "      <td>1</td>\n",
       "    </tr>\n",
       "    <tr>\n",
       "      <th>240</th>\n",
       "      <td>2</td>\n",
       "    </tr>\n",
       "    <tr>\n",
       "      <th>819</th>\n",
       "      <td>0</td>\n",
       "    </tr>\n",
       "    <tr>\n",
       "      <th>692</th>\n",
       "      <td>3</td>\n",
       "    </tr>\n",
       "    <tr>\n",
       "      <th>420</th>\n",
       "      <td>1</td>\n",
       "    </tr>\n",
       "  </tbody>\n",
       "</table>\n",
       "</div>"
      ],
      "text/plain": [
       "     price_range\n",
       "968            1\n",
       "240            2\n",
       "819            0\n",
       "692            3\n",
       "420            1"
      ]
     },
     "execution_count": 37,
     "metadata": {},
     "output_type": "execute_result"
    }
   ],
   "source": [
    "ytrain.head()"
   ]
  },
  {
   "cell_type": "code",
   "execution_count": 40,
   "metadata": {},
   "outputs": [
    {
     "data": {
      "text/plain": [
       "array([0, 2, 1, 3, 1], dtype=int64)"
      ]
     },
     "execution_count": 40,
     "metadata": {},
     "output_type": "execute_result"
    }
   ],
   "source": [
    "ypred_ts[0:5]"
   ]
  },
  {
   "cell_type": "code",
   "execution_count": 41,
   "metadata": {},
   "outputs": [
    {
     "data": {
      "text/html": [
       "<div>\n",
       "<style scoped>\n",
       "    .dataframe tbody tr th:only-of-type {\n",
       "        vertical-align: middle;\n",
       "    }\n",
       "\n",
       "    .dataframe tbody tr th {\n",
       "        vertical-align: top;\n",
       "    }\n",
       "\n",
       "    .dataframe thead th {\n",
       "        text-align: right;\n",
       "    }\n",
       "</style>\n",
       "<table border=\"1\" class=\"dataframe\">\n",
       "  <thead>\n",
       "    <tr style=\"text-align: right;\">\n",
       "      <th></th>\n",
       "      <th>price_range</th>\n",
       "    </tr>\n",
       "  </thead>\n",
       "  <tbody>\n",
       "    <tr>\n",
       "      <th>1860</th>\n",
       "      <td>0</td>\n",
       "    </tr>\n",
       "    <tr>\n",
       "      <th>353</th>\n",
       "      <td>2</td>\n",
       "    </tr>\n",
       "    <tr>\n",
       "      <th>1333</th>\n",
       "      <td>1</td>\n",
       "    </tr>\n",
       "    <tr>\n",
       "      <th>905</th>\n",
       "      <td>3</td>\n",
       "    </tr>\n",
       "    <tr>\n",
       "      <th>1289</th>\n",
       "      <td>1</td>\n",
       "    </tr>\n",
       "  </tbody>\n",
       "</table>\n",
       "</div>"
      ],
      "text/plain": [
       "      price_range\n",
       "1860            0\n",
       "353             2\n",
       "1333            1\n",
       "905             3\n",
       "1289            1"
      ]
     },
     "execution_count": 41,
     "metadata": {},
     "output_type": "execute_result"
    }
   ],
   "source": [
    "ytest.head()"
   ]
  },
  {
   "cell_type": "markdown",
   "metadata": {},
   "source": [
    "## Plot the Confusion metrics"
   ]
  },
  {
   "cell_type": "code",
   "execution_count": 42,
   "metadata": {},
   "outputs": [
    {
     "data": {
      "text/plain": [
       "<sklearn.metrics._plot.confusion_matrix.ConfusionMatrixDisplay at 0x226a8eb6850>"
      ]
     },
     "execution_count": 42,
     "metadata": {},
     "output_type": "execute_result"
    },
    {
     "data": {
      "image/png": "[encoded data removed]",
      "text/plain": [
       "<Figure size 640x480 with 2 Axes>"
      ]
     },
     "metadata": {},
     "output_type": "display_data"
    }
   ],
   "source": [
    "from sklearn.metrics import confusion_matrix, ConfusionMatrixDisplay\n",
    "cf = confusion_matrix(ytest, ypred_ts)\n",
    "cfd = ConfusionMatrixDisplay(cf)\n",
    "cfd.plot()"
   ]
  },
  {
   "cell_type": "markdown",
   "metadata": {},
   "source": [
    "## Printing classification report"
   ]
  },
  {
   "cell_type": "code",
   "execution_count": 43,
   "metadata": {},
   "outputs": [
    {
     "name": "stdout",
     "output_type": "stream",
     "text": [
      "              precision    recall  f1-score   support\n",
      "\n",
      "           0       0.98      0.94      0.96       105\n",
      "           1       0.88      0.95      0.91        91\n",
      "           2       0.89      0.89      0.89        92\n",
      "           3       0.96      0.94      0.95       112\n",
      "\n",
      "    accuracy                           0.93       400\n",
      "   macro avg       0.93      0.93      0.93       400\n",
      "weighted avg       0.93      0.93      0.93       400\n",
      "\n"
     ]
    }
   ],
   "source": [
    "from sklearn.metrics import classification_report\n",
    "print(classification_report(ytest, ypred_ts))"
   ]
  },
  {
   "cell_type": "markdown",
   "metadata": {},
   "source": [
    "## Becuse f1_macro is 94% in test above is a very good model"
   ]
  },
  {
   "cell_type": "markdown",
   "metadata": {},
   "source": [
    "## Predictiong out of sample data"
   ]
  },
  {
   "cell_type": "code",
   "execution_count": 46,
   "metadata": {},
   "outputs": [
    {
     "data": {
      "text/html": [
       "<div>\n",
       "<style scoped>\n",
       "    .dataframe tbody tr th:only-of-type {\n",
       "        vertical-align: middle;\n",
       "    }\n",
       "\n",
       "    .dataframe tbody tr th {\n",
       "        vertical-align: top;\n",
       "    }\n",
       "\n",
       "    .dataframe thead th {\n",
       "        text-align: right;\n",
       "    }\n",
       "</style>\n",
       "<table border=\"1\" class=\"dataframe\">\n",
       "  <thead>\n",
       "    <tr style=\"text-align: right;\">\n",
       "      <th></th>\n",
       "      <th>id</th>\n",
       "      <th>battery_power</th>\n",
       "      <th>blue</th>\n",
       "      <th>clock_speed</th>\n",
       "      <th>dual_sim</th>\n",
       "      <th>fc</th>\n",
       "      <th>four_g</th>\n",
       "      <th>int_memory</th>\n",
       "      <th>m_dep</th>\n",
       "      <th>mobile_wt</th>\n",
       "      <th>...</th>\n",
       "      <th>pc</th>\n",
       "      <th>px_height</th>\n",
       "      <th>px_width</th>\n",
       "      <th>ram</th>\n",
       "      <th>sc_h</th>\n",
       "      <th>sc_w</th>\n",
       "      <th>talk_time</th>\n",
       "      <th>three_g</th>\n",
       "      <th>touch_screen</th>\n",
       "      <th>wifi</th>\n",
       "    </tr>\n",
       "  </thead>\n",
       "  <tbody>\n",
       "    <tr>\n",
       "      <th>0</th>\n",
       "      <td>1</td>\n",
       "      <td>1043</td>\n",
       "      <td>1</td>\n",
       "      <td>1.8</td>\n",
       "      <td>1</td>\n",
       "      <td>14</td>\n",
       "      <td>0</td>\n",
       "      <td>5</td>\n",
       "      <td>0.1</td>\n",
       "      <td>193</td>\n",
       "      <td>...</td>\n",
       "      <td>16</td>\n",
       "      <td>226</td>\n",
       "      <td>1412</td>\n",
       "      <td>3476</td>\n",
       "      <td>12</td>\n",
       "      <td>7</td>\n",
       "      <td>2</td>\n",
       "      <td>0</td>\n",
       "      <td>1</td>\n",
       "      <td>0</td>\n",
       "    </tr>\n",
       "    <tr>\n",
       "      <th>1</th>\n",
       "      <td>2</td>\n",
       "      <td>841</td>\n",
       "      <td>1</td>\n",
       "      <td>0.5</td>\n",
       "      <td>1</td>\n",
       "      <td>4</td>\n",
       "      <td>1</td>\n",
       "      <td>61</td>\n",
       "      <td>0.8</td>\n",
       "      <td>191</td>\n",
       "      <td>...</td>\n",
       "      <td>12</td>\n",
       "      <td>746</td>\n",
       "      <td>857</td>\n",
       "      <td>3895</td>\n",
       "      <td>6</td>\n",
       "      <td>0</td>\n",
       "      <td>7</td>\n",
       "      <td>1</td>\n",
       "      <td>0</td>\n",
       "      <td>0</td>\n",
       "    </tr>\n",
       "    <tr>\n",
       "      <th>2</th>\n",
       "      <td>3</td>\n",
       "      <td>1807</td>\n",
       "      <td>1</td>\n",
       "      <td>2.8</td>\n",
       "      <td>0</td>\n",
       "      <td>1</td>\n",
       "      <td>0</td>\n",
       "      <td>27</td>\n",
       "      <td>0.9</td>\n",
       "      <td>186</td>\n",
       "      <td>...</td>\n",
       "      <td>4</td>\n",
       "      <td>1270</td>\n",
       "      <td>1366</td>\n",
       "      <td>2396</td>\n",
       "      <td>17</td>\n",
       "      <td>10</td>\n",
       "      <td>10</td>\n",
       "      <td>0</td>\n",
       "      <td>1</td>\n",
       "      <td>1</td>\n",
       "    </tr>\n",
       "    <tr>\n",
       "      <th>3</th>\n",
       "      <td>4</td>\n",
       "      <td>1546</td>\n",
       "      <td>0</td>\n",
       "      <td>0.5</td>\n",
       "      <td>1</td>\n",
       "      <td>18</td>\n",
       "      <td>1</td>\n",
       "      <td>25</td>\n",
       "      <td>0.5</td>\n",
       "      <td>96</td>\n",
       "      <td>...</td>\n",
       "      <td>20</td>\n",
       "      <td>295</td>\n",
       "      <td>1752</td>\n",
       "      <td>3893</td>\n",
       "      <td>10</td>\n",
       "      <td>0</td>\n",
       "      <td>7</td>\n",
       "      <td>1</td>\n",
       "      <td>1</td>\n",
       "      <td>0</td>\n",
       "    </tr>\n",
       "    <tr>\n",
       "      <th>4</th>\n",
       "      <td>5</td>\n",
       "      <td>1434</td>\n",
       "      <td>0</td>\n",
       "      <td>1.4</td>\n",
       "      <td>0</td>\n",
       "      <td>11</td>\n",
       "      <td>1</td>\n",
       "      <td>49</td>\n",
       "      <td>0.5</td>\n",
       "      <td>108</td>\n",
       "      <td>...</td>\n",
       "      <td>18</td>\n",
       "      <td>749</td>\n",
       "      <td>810</td>\n",
       "      <td>1773</td>\n",
       "      <td>15</td>\n",
       "      <td>8</td>\n",
       "      <td>7</td>\n",
       "      <td>1</td>\n",
       "      <td>0</td>\n",
       "      <td>1</td>\n",
       "    </tr>\n",
       "  </tbody>\n",
       "</table>\n",
       "<p>5 rows × 21 columns</p>\n",
       "</div>"
      ],
      "text/plain": [
       "   id  battery_power  blue  clock_speed  dual_sim  fc  four_g  int_memory  \\\n",
       "0   1           1043     1          1.8         1  14       0           5   \n",
       "1   2            841     1          0.5         1   4       1          61   \n",
       "2   3           1807     1          2.8         0   1       0          27   \n",
       "3   4           1546     0          0.5         1  18       1          25   \n",
       "4   5           1434     0          1.4         0  11       1          49   \n",
       "\n",
       "   m_dep  mobile_wt  ...  pc  px_height  px_width   ram  sc_h  sc_w  \\\n",
       "0    0.1        193  ...  16        226      1412  3476    12     7   \n",
       "1    0.8        191  ...  12        746       857  3895     6     0   \n",
       "2    0.9        186  ...   4       1270      1366  2396    17    10   \n",
       "3    0.5         96  ...  20        295      1752  3893    10     0   \n",
       "4    0.5        108  ...  18        749       810  1773    15     8   \n",
       "\n",
       "   talk_time  three_g  touch_screen  wifi  \n",
       "0          2        0             1     0  \n",
       "1          7        1             0     0  \n",
       "2         10        0             1     1  \n",
       "3          7        1             1     0  \n",
       "4          7        1             0     1  \n",
       "\n",
       "[5 rows x 21 columns]"
      ]
     },
     "execution_count": 46,
     "metadata": {},
     "output_type": "execute_result"
    }
   ],
   "source": [
    "xnew = pd.read_csv('test_mobile.csv')\n",
    "xnew.head()"
   ]
  },
  {
   "cell_type": "code",
   "execution_count": 48,
   "metadata": {},
   "outputs": [
    {
     "data": {
      "text/html": [
       "<div>\n",
       "<style scoped>\n",
       "    .dataframe tbody tr th:only-of-type {\n",
       "        vertical-align: middle;\n",
       "    }\n",
       "\n",
       "    .dataframe tbody tr th {\n",
       "        vertical-align: top;\n",
       "    }\n",
       "\n",
       "    .dataframe thead th {\n",
       "        text-align: right;\n",
       "    }\n",
       "</style>\n",
       "<table border=\"1\" class=\"dataframe\">\n",
       "  <thead>\n",
       "    <tr style=\"text-align: right;\">\n",
       "      <th></th>\n",
       "      <th>battery_power</th>\n",
       "      <th>blue</th>\n",
       "      <th>clock_speed</th>\n",
       "      <th>dual_sim</th>\n",
       "      <th>fc</th>\n",
       "      <th>four_g</th>\n",
       "      <th>int_memory</th>\n",
       "      <th>m_dep</th>\n",
       "      <th>mobile_wt</th>\n",
       "      <th>n_cores</th>\n",
       "      <th>pc</th>\n",
       "      <th>px_height</th>\n",
       "      <th>px_width</th>\n",
       "      <th>ram</th>\n",
       "      <th>sc_h</th>\n",
       "      <th>sc_w</th>\n",
       "      <th>talk_time</th>\n",
       "      <th>three_g</th>\n",
       "      <th>touch_screen</th>\n",
       "      <th>wifi</th>\n",
       "    </tr>\n",
       "  </thead>\n",
       "  <tbody>\n",
       "    <tr>\n",
       "      <th>0</th>\n",
       "      <td>1043</td>\n",
       "      <td>1</td>\n",
       "      <td>1.8</td>\n",
       "      <td>1</td>\n",
       "      <td>14</td>\n",
       "      <td>0</td>\n",
       "      <td>5</td>\n",
       "      <td>0.1</td>\n",
       "      <td>193</td>\n",
       "      <td>3</td>\n",
       "      <td>16</td>\n",
       "      <td>226</td>\n",
       "      <td>1412</td>\n",
       "      <td>3476</td>\n",
       "      <td>12</td>\n",
       "      <td>7</td>\n",
       "      <td>2</td>\n",
       "      <td>0</td>\n",
       "      <td>1</td>\n",
       "      <td>0</td>\n",
       "    </tr>\n",
       "    <tr>\n",
       "      <th>1</th>\n",
       "      <td>841</td>\n",
       "      <td>1</td>\n",
       "      <td>0.5</td>\n",
       "      <td>1</td>\n",
       "      <td>4</td>\n",
       "      <td>1</td>\n",
       "      <td>61</td>\n",
       "      <td>0.8</td>\n",
       "      <td>191</td>\n",
       "      <td>5</td>\n",
       "      <td>12</td>\n",
       "      <td>746</td>\n",
       "      <td>857</td>\n",
       "      <td>3895</td>\n",
       "      <td>6</td>\n",
       "      <td>0</td>\n",
       "      <td>7</td>\n",
       "      <td>1</td>\n",
       "      <td>0</td>\n",
       "      <td>0</td>\n",
       "    </tr>\n",
       "    <tr>\n",
       "      <th>2</th>\n",
       "      <td>1807</td>\n",
       "      <td>1</td>\n",
       "      <td>2.8</td>\n",
       "      <td>0</td>\n",
       "      <td>1</td>\n",
       "      <td>0</td>\n",
       "      <td>27</td>\n",
       "      <td>0.9</td>\n",
       "      <td>186</td>\n",
       "      <td>3</td>\n",
       "      <td>4</td>\n",
       "      <td>1270</td>\n",
       "      <td>1366</td>\n",
       "      <td>2396</td>\n",
       "      <td>17</td>\n",
       "      <td>10</td>\n",
       "      <td>10</td>\n",
       "      <td>0</td>\n",
       "      <td>1</td>\n",
       "      <td>1</td>\n",
       "    </tr>\n",
       "    <tr>\n",
       "      <th>3</th>\n",
       "      <td>1546</td>\n",
       "      <td>0</td>\n",
       "      <td>0.5</td>\n",
       "      <td>1</td>\n",
       "      <td>18</td>\n",
       "      <td>1</td>\n",
       "      <td>25</td>\n",
       "      <td>0.5</td>\n",
       "      <td>96</td>\n",
       "      <td>8</td>\n",
       "      <td>20</td>\n",
       "      <td>295</td>\n",
       "      <td>1752</td>\n",
       "      <td>3893</td>\n",
       "      <td>10</td>\n",
       "      <td>0</td>\n",
       "      <td>7</td>\n",
       "      <td>1</td>\n",
       "      <td>1</td>\n",
       "      <td>0</td>\n",
       "    </tr>\n",
       "    <tr>\n",
       "      <th>4</th>\n",
       "      <td>1434</td>\n",
       "      <td>0</td>\n",
       "      <td>1.4</td>\n",
       "      <td>0</td>\n",
       "      <td>11</td>\n",
       "      <td>1</td>\n",
       "      <td>49</td>\n",
       "      <td>0.5</td>\n",
       "      <td>108</td>\n",
       "      <td>6</td>\n",
       "      <td>18</td>\n",
       "      <td>749</td>\n",
       "      <td>810</td>\n",
       "      <td>1773</td>\n",
       "      <td>15</td>\n",
       "      <td>8</td>\n",
       "      <td>7</td>\n",
       "      <td>1</td>\n",
       "      <td>0</td>\n",
       "      <td>1</td>\n",
       "    </tr>\n",
       "  </tbody>\n",
       "</table>\n",
       "</div>"
      ],
      "text/plain": [
       "   battery_power  blue  clock_speed  dual_sim  fc  four_g  int_memory  m_dep  \\\n",
       "0           1043     1          1.8         1  14       0           5    0.1   \n",
       "1            841     1          0.5         1   4       1          61    0.8   \n",
       "2           1807     1          2.8         0   1       0          27    0.9   \n",
       "3           1546     0          0.5         1  18       1          25    0.5   \n",
       "4           1434     0          1.4         0  11       1          49    0.5   \n",
       "\n",
       "   mobile_wt  n_cores  pc  px_height  px_width   ram  sc_h  sc_w  talk_time  \\\n",
       "0        193        3  16        226      1412  3476    12     7          2   \n",
       "1        191        5  12        746       857  3895     6     0          7   \n",
       "2        186        3   4       1270      1366  2396    17    10         10   \n",
       "3         96        8  20        295      1752  3893    10     0          7   \n",
       "4        108        6  18        749       810  1773    15     8          7   \n",
       "\n",
       "   three_g  touch_screen  wifi  \n",
       "0        0             1     0  \n",
       "1        1             0     0  \n",
       "2        0             1     1  \n",
       "3        1             1     0  \n",
       "4        1             0     1  "
      ]
     },
     "execution_count": 48,
     "metadata": {},
     "output_type": "execute_result"
    }
   ],
   "source": [
    "xnew2 = xnew.drop(columns=['id'])\n",
    "xnew2.head()"
   ]
  },
  {
   "cell_type": "markdown",
   "metadata": {},
   "source": [
    "## Transform the data help of pipeline"
   ]
  },
  {
   "cell_type": "code",
   "execution_count": 49,
   "metadata": {},
   "outputs": [
    {
     "data": {
      "text/html": [
       "<div>\n",
       "<style scoped>\n",
       "    .dataframe tbody tr th:only-of-type {\n",
       "        vertical-align: middle;\n",
       "    }\n",
       "\n",
       "    .dataframe tbody tr th {\n",
       "        vertical-align: top;\n",
       "    }\n",
       "\n",
       "    .dataframe thead th {\n",
       "        text-align: right;\n",
       "    }\n",
       "</style>\n",
       "<table border=\"1\" class=\"dataframe\">\n",
       "  <thead>\n",
       "    <tr style=\"text-align: right;\">\n",
       "      <th></th>\n",
       "      <th>battery_power</th>\n",
       "      <th>blue</th>\n",
       "      <th>clock_speed</th>\n",
       "      <th>dual_sim</th>\n",
       "      <th>fc</th>\n",
       "      <th>four_g</th>\n",
       "      <th>int_memory</th>\n",
       "      <th>m_dep</th>\n",
       "      <th>mobile_wt</th>\n",
       "      <th>n_cores</th>\n",
       "      <th>pc</th>\n",
       "      <th>px_height</th>\n",
       "      <th>px_width</th>\n",
       "      <th>ram</th>\n",
       "      <th>sc_h</th>\n",
       "      <th>sc_w</th>\n",
       "      <th>talk_time</th>\n",
       "      <th>three_g</th>\n",
       "      <th>touch_screen</th>\n",
       "      <th>wifi</th>\n",
       "    </tr>\n",
       "  </thead>\n",
       "  <tbody>\n",
       "    <tr>\n",
       "      <th>0</th>\n",
       "      <td>-0.445060</td>\n",
       "      <td>1.010051</td>\n",
       "      <td>0.340463</td>\n",
       "      <td>0.981177</td>\n",
       "      <td>2.232650</td>\n",
       "      <td>-1.043966</td>\n",
       "      <td>-1.490890</td>\n",
       "      <td>-1.393304</td>\n",
       "      <td>1.490528</td>\n",
       "      <td>-0.664768</td>\n",
       "      <td>1.003414</td>\n",
       "      <td>-0.944639</td>\n",
       "      <td>0.371413</td>\n",
       "      <td>1.246506</td>\n",
       "      <td>-0.072765</td>\n",
       "      <td>0.283103</td>\n",
       "      <td>-1.649584</td>\n",
       "      <td>-1.786861</td>\n",
       "      <td>0.994018</td>\n",
       "      <td>-1.014099</td>\n",
       "    </tr>\n",
       "    <tr>\n",
       "      <th>1</th>\n",
       "      <td>-0.904874</td>\n",
       "      <td>1.010051</td>\n",
       "      <td>-1.253064</td>\n",
       "      <td>0.981177</td>\n",
       "      <td>-0.071307</td>\n",
       "      <td>0.957886</td>\n",
       "      <td>1.596010</td>\n",
       "      <td>1.034357</td>\n",
       "      <td>1.434017</td>\n",
       "      <td>0.209639</td>\n",
       "      <td>0.343653</td>\n",
       "      <td>0.227403</td>\n",
       "      <td>-0.913037</td>\n",
       "      <td>1.632873</td>\n",
       "      <td>-1.497202</td>\n",
       "      <td>-1.324131</td>\n",
       "      <td>-0.734267</td>\n",
       "      <td>0.559641</td>\n",
       "      <td>-1.006018</td>\n",
       "      <td>-1.014099</td>\n",
       "    </tr>\n",
       "    <tr>\n",
       "      <th>2</th>\n",
       "      <td>1.294038</td>\n",
       "      <td>1.010051</td>\n",
       "      <td>1.566254</td>\n",
       "      <td>-1.019184</td>\n",
       "      <td>-0.762495</td>\n",
       "      <td>-1.043966</td>\n",
       "      <td>-0.278179</td>\n",
       "      <td>1.381165</td>\n",
       "      <td>1.292737</td>\n",
       "      <td>-0.664768</td>\n",
       "      <td>-0.975869</td>\n",
       "      <td>1.408462</td>\n",
       "      <td>0.264954</td>\n",
       "      <td>0.250619</td>\n",
       "      <td>1.114266</td>\n",
       "      <td>0.971917</td>\n",
       "      <td>-0.185077</td>\n",
       "      <td>-1.786861</td>\n",
       "      <td>0.994018</td>\n",
       "      <td>0.986097</td>\n",
       "    </tr>\n",
       "    <tr>\n",
       "      <th>3</th>\n",
       "      <td>0.699922</td>\n",
       "      <td>-0.990050</td>\n",
       "      <td>-1.253064</td>\n",
       "      <td>0.981177</td>\n",
       "      <td>3.154233</td>\n",
       "      <td>0.957886</td>\n",
       "      <td>-0.388426</td>\n",
       "      <td>-0.006069</td>\n",
       "      <td>-1.250297</td>\n",
       "      <td>1.521249</td>\n",
       "      <td>1.663176</td>\n",
       "      <td>-0.789118</td>\n",
       "      <td>1.158284</td>\n",
       "      <td>1.631029</td>\n",
       "      <td>-0.547577</td>\n",
       "      <td>-1.324131</td>\n",
       "      <td>-0.734267</td>\n",
       "      <td>0.559641</td>\n",
       "      <td>0.994018</td>\n",
       "      <td>-1.014099</td>\n",
       "    </tr>\n",
       "    <tr>\n",
       "      <th>4</th>\n",
       "      <td>0.444976</td>\n",
       "      <td>-0.990050</td>\n",
       "      <td>-0.149853</td>\n",
       "      <td>-1.019184</td>\n",
       "      <td>1.541463</td>\n",
       "      <td>0.957886</td>\n",
       "      <td>0.934531</td>\n",
       "      <td>-0.006069</td>\n",
       "      <td>-0.911225</td>\n",
       "      <td>0.646842</td>\n",
       "      <td>1.333295</td>\n",
       "      <td>0.234165</td>\n",
       "      <td>-1.021810</td>\n",
       "      <td>-0.323860</td>\n",
       "      <td>0.639453</td>\n",
       "      <td>0.512708</td>\n",
       "      <td>-0.734267</td>\n",
       "      <td>0.559641</td>\n",
       "      <td>-1.006018</td>\n",
       "      <td>0.986097</td>\n",
       "    </tr>\n",
       "  </tbody>\n",
       "</table>\n",
       "</div>"
      ],
      "text/plain": [
       "   battery_power      blue  clock_speed  dual_sim        fc    four_g  \\\n",
       "0      -0.445060  1.010051     0.340463  0.981177  2.232650 -1.043966   \n",
       "1      -0.904874  1.010051    -1.253064  0.981177 -0.071307  0.957886   \n",
       "2       1.294038  1.010051     1.566254 -1.019184 -0.762495 -1.043966   \n",
       "3       0.699922 -0.990050    -1.253064  0.981177  3.154233  0.957886   \n",
       "4       0.444976 -0.990050    -0.149853 -1.019184  1.541463  0.957886   \n",
       "\n",
       "   int_memory     m_dep  mobile_wt   n_cores        pc  px_height  px_width  \\\n",
       "0   -1.490890 -1.393304   1.490528 -0.664768  1.003414  -0.944639  0.371413   \n",
       "1    1.596010  1.034357   1.434017  0.209639  0.343653   0.227403 -0.913037   \n",
       "2   -0.278179  1.381165   1.292737 -0.664768 -0.975869   1.408462  0.264954   \n",
       "3   -0.388426 -0.006069  -1.250297  1.521249  1.663176  -0.789118  1.158284   \n",
       "4    0.934531 -0.006069  -0.911225  0.646842  1.333295   0.234165 -1.021810   \n",
       "\n",
       "        ram      sc_h      sc_w  talk_time   three_g  touch_screen      wifi  \n",
       "0  1.246506 -0.072765  0.283103  -1.649584 -1.786861      0.994018 -1.014099  \n",
       "1  1.632873 -1.497202 -1.324131  -0.734267  0.559641     -1.006018 -1.014099  \n",
       "2  0.250619  1.114266  0.971917  -0.185077 -1.786861      0.994018  0.986097  \n",
       "3  1.631029 -0.547577 -1.324131  -0.734267  0.559641      0.994018 -1.014099  \n",
       "4 -0.323860  0.639453  0.512708  -0.734267  0.559641     -1.006018  0.986097  "
      ]
     },
     "execution_count": 49,
     "metadata": {},
     "output_type": "execute_result"
    }
   ],
   "source": [
    "xnew_pre = num_pipe.transform(xnew2)\n",
    "xnew_pre.head()"
   ]
  },
  {
   "cell_type": "code",
   "execution_count": 50,
   "metadata": {},
   "outputs": [
    {
     "name": "stdout",
     "output_type": "stream",
     "text": [
      "32/32 [==============================] - 0s 2ms/step\n"
     ]
    }
   ],
   "source": [
    "yprob = mobile.predict(xnew_pre)"
   ]
  },
  {
   "cell_type": "code",
   "execution_count": 51,
   "metadata": {},
   "outputs": [
    {
     "data": {
      "text/plain": [
       "array([[5.2569707e-14, 2.3552715e-07, 3.0651847e-01, 6.9348133e-01],\n",
       "       [7.7067747e-21, 3.3315635e-11, 2.2106135e-02, 9.7789383e-01],\n",
       "       [8.2018935e-13, 1.6268211e-06, 7.5789338e-01, 2.4210495e-01],\n",
       "       [5.9634975e-23, 2.0585905e-13, 6.8129966e-04, 9.9931872e-01],\n",
       "       [2.3081664e-03, 9.9394649e-01, 3.7453775e-03, 3.2316719e-11]],\n",
       "      dtype=float32)"
      ]
     },
     "execution_count": 51,
     "metadata": {},
     "output_type": "execute_result"
    }
   ],
   "source": [
    "yprob[0:5]"
   ]
  },
  {
   "cell_type": "markdown",
   "metadata": {},
   "source": [
    "## Get the prediction from probabilities"
   ]
  },
  {
   "cell_type": "code",
   "execution_count": 53,
   "metadata": {},
   "outputs": [
    {
     "data": {
      "text/plain": [
       "array([3, 3, 2, 3, 1], dtype=int64)"
      ]
     },
     "execution_count": 53,
     "metadata": {},
     "output_type": "execute_result"
    }
   ],
   "source": [
    "ypred = np.argmax(yprob, axis=1)\n",
    "ypred[0:5]"
   ]
  },
  {
   "cell_type": "markdown",
   "metadata": {},
   "source": [
    "## Get the maximum probabilty"
   ]
  },
  {
   "cell_type": "code",
   "execution_count": 55,
   "metadata": {},
   "outputs": [
    {
     "data": {
      "text/plain": [
       "array([0.6934813, 0.9778938, 0.7578934, 0.9993187, 0.9939465],\n",
       "      dtype=float32)"
      ]
     },
     "execution_count": 55,
     "metadata": {},
     "output_type": "execute_result"
    }
   ],
   "source": [
    "max_prob = np.max(yprob, axis=1)\n",
    "max_prob[0:5]"
   ]
  },
  {
   "cell_type": "markdown",
   "metadata": {},
   "source": [
    "## Saving above result to dataframe"
   ]
  },
  {
   "cell_type": "code",
   "execution_count": 56,
   "metadata": {},
   "outputs": [
    {
     "data": {
      "text/html": [
       "<div>\n",
       "<style scoped>\n",
       "    .dataframe tbody tr th:only-of-type {\n",
       "        vertical-align: middle;\n",
       "    }\n",
       "\n",
       "    .dataframe tbody tr th {\n",
       "        vertical-align: top;\n",
       "    }\n",
       "\n",
       "    .dataframe thead th {\n",
       "        text-align: right;\n",
       "    }\n",
       "</style>\n",
       "<table border=\"1\" class=\"dataframe\">\n",
       "  <thead>\n",
       "    <tr style=\"text-align: right;\">\n",
       "      <th></th>\n",
       "      <th>id</th>\n",
       "    </tr>\n",
       "  </thead>\n",
       "  <tbody>\n",
       "    <tr>\n",
       "      <th>0</th>\n",
       "      <td>1</td>\n",
       "    </tr>\n",
       "    <tr>\n",
       "      <th>1</th>\n",
       "      <td>2</td>\n",
       "    </tr>\n",
       "    <tr>\n",
       "      <th>2</th>\n",
       "      <td>3</td>\n",
       "    </tr>\n",
       "    <tr>\n",
       "      <th>3</th>\n",
       "      <td>4</td>\n",
       "    </tr>\n",
       "    <tr>\n",
       "      <th>4</th>\n",
       "      <td>5</td>\n",
       "    </tr>\n",
       "    <tr>\n",
       "      <th>...</th>\n",
       "      <td>...</td>\n",
       "    </tr>\n",
       "    <tr>\n",
       "      <th>995</th>\n",
       "      <td>996</td>\n",
       "    </tr>\n",
       "    <tr>\n",
       "      <th>996</th>\n",
       "      <td>997</td>\n",
       "    </tr>\n",
       "    <tr>\n",
       "      <th>997</th>\n",
       "      <td>998</td>\n",
       "    </tr>\n",
       "    <tr>\n",
       "      <th>998</th>\n",
       "      <td>999</td>\n",
       "    </tr>\n",
       "    <tr>\n",
       "      <th>999</th>\n",
       "      <td>1000</td>\n",
       "    </tr>\n",
       "  </tbody>\n",
       "</table>\n",
       "<p>1000 rows × 1 columns</p>\n",
       "</div>"
      ],
      "text/plain": [
       "       id\n",
       "0       1\n",
       "1       2\n",
       "2       3\n",
       "3       4\n",
       "4       5\n",
       "..    ...\n",
       "995   996\n",
       "996   997\n",
       "997   998\n",
       "998   999\n",
       "999  1000\n",
       "\n",
       "[1000 rows x 1 columns]"
      ]
     },
     "execution_count": 56,
     "metadata": {},
     "output_type": "execute_result"
    }
   ],
   "source": [
    "df_final = xnew[['id']]\n",
    "df_final"
   ]
  },
  {
   "cell_type": "code",
   "execution_count": 58,
   "metadata": {},
   "outputs": [],
   "source": [
    "df_final['price_range'] = ypred\n",
    "df_final['Probability'] = max_prob"
   ]
  },
  {
   "cell_type": "code",
   "execution_count": 59,
   "metadata": {},
   "outputs": [
    {
     "data": {
      "text/html": [
       "<div>\n",
       "<style scoped>\n",
       "    .dataframe tbody tr th:only-of-type {\n",
       "        vertical-align: middle;\n",
       "    }\n",
       "\n",
       "    .dataframe tbody tr th {\n",
       "        vertical-align: top;\n",
       "    }\n",
       "\n",
       "    .dataframe thead th {\n",
       "        text-align: right;\n",
       "    }\n",
       "</style>\n",
       "<table border=\"1\" class=\"dataframe\">\n",
       "  <thead>\n",
       "    <tr style=\"text-align: right;\">\n",
       "      <th></th>\n",
       "      <th>id</th>\n",
       "      <th>price_range</th>\n",
       "      <th>Probability</th>\n",
       "    </tr>\n",
       "  </thead>\n",
       "  <tbody>\n",
       "    <tr>\n",
       "      <th>0</th>\n",
       "      <td>1</td>\n",
       "      <td>3</td>\n",
       "      <td>0.693481</td>\n",
       "    </tr>\n",
       "    <tr>\n",
       "      <th>1</th>\n",
       "      <td>2</td>\n",
       "      <td>3</td>\n",
       "      <td>0.977894</td>\n",
       "    </tr>\n",
       "    <tr>\n",
       "      <th>2</th>\n",
       "      <td>3</td>\n",
       "      <td>2</td>\n",
       "      <td>0.757893</td>\n",
       "    </tr>\n",
       "    <tr>\n",
       "      <th>3</th>\n",
       "      <td>4</td>\n",
       "      <td>3</td>\n",
       "      <td>0.999319</td>\n",
       "    </tr>\n",
       "    <tr>\n",
       "      <th>4</th>\n",
       "      <td>5</td>\n",
       "      <td>1</td>\n",
       "      <td>0.993946</td>\n",
       "    </tr>\n",
       "    <tr>\n",
       "      <th>...</th>\n",
       "      <td>...</td>\n",
       "      <td>...</td>\n",
       "      <td>...</td>\n",
       "    </tr>\n",
       "    <tr>\n",
       "      <th>995</th>\n",
       "      <td>996</td>\n",
       "      <td>2</td>\n",
       "      <td>0.954438</td>\n",
       "    </tr>\n",
       "    <tr>\n",
       "      <th>996</th>\n",
       "      <td>997</td>\n",
       "      <td>1</td>\n",
       "      <td>0.991754</td>\n",
       "    </tr>\n",
       "    <tr>\n",
       "      <th>997</th>\n",
       "      <td>998</td>\n",
       "      <td>1</td>\n",
       "      <td>0.692053</td>\n",
       "    </tr>\n",
       "    <tr>\n",
       "      <th>998</th>\n",
       "      <td>999</td>\n",
       "      <td>2</td>\n",
       "      <td>0.977243</td>\n",
       "    </tr>\n",
       "    <tr>\n",
       "      <th>999</th>\n",
       "      <td>1000</td>\n",
       "      <td>2</td>\n",
       "      <td>0.999234</td>\n",
       "    </tr>\n",
       "  </tbody>\n",
       "</table>\n",
       "<p>1000 rows × 3 columns</p>\n",
       "</div>"
      ],
      "text/plain": [
       "       id  price_range  Probability\n",
       "0       1            3     0.693481\n",
       "1       2            3     0.977894\n",
       "2       3            2     0.757893\n",
       "3       4            3     0.999319\n",
       "4       5            1     0.993946\n",
       "..    ...          ...          ...\n",
       "995   996            2     0.954438\n",
       "996   997            1     0.991754\n",
       "997   998            1     0.692053\n",
       "998   999            2     0.977243\n",
       "999  1000            2     0.999234\n",
       "\n",
       "[1000 rows x 3 columns]"
      ]
     },
     "execution_count": 59,
     "metadata": {},
     "output_type": "execute_result"
    }
   ],
   "source": [
    "df_final"
   ]
  },
  {
   "cell_type": "code",
   "execution_count": 61,
   "metadata": {},
   "outputs": [
    {
     "data": {
      "text/plain": [
       "price_range\n",
       "2    262\n",
       "3    253\n",
       "1    244\n",
       "0    241\n",
       "Name: count, dtype: int64"
      ]
     },
     "execution_count": 61,
     "metadata": {},
     "output_type": "execute_result"
    }
   ],
   "source": [
    "df_final['price_range'].value_counts()"
   ]
  },
  {
   "cell_type": "markdown",
   "metadata": {},
   "source": [
    "## Saving above result into CSV format"
   ]
  },
  {
   "cell_type": "code",
   "execution_count": 62,
   "metadata": {},
   "outputs": [],
   "source": [
    "df.to_csv('Result.csv', index=False)"
   ]
  },
  {
   "cell_type": "code",
   "execution_count": null,
   "metadata": {},
   "outputs": [],
   "source": []
  }
 ],
 "metadata": {
  "kernelspec": {
   "display_name": "venv",
   "language": "python",
   "name": "python3"
  },
  "language_info": {
   "codemirror_mode": {
    "name": "ipython",
    "version": 3
   },
   "file_extension": ".py",
   "mimetype": "text/x-python",
   "name": "python",
   "nbconvert_exporter": "python",
   "pygments_lexer": "ipython3",
   "version": "3.11.8"
  }
 },
 "nbformat": 4,
 "nbformat_minor": 2
}
